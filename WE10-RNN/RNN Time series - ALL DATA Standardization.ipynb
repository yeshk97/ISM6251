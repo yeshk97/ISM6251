{
 "cells": [
  {
   "cell_type": "markdown",
   "metadata": {},
   "source": [
    "# Tutorial 2 - RNN Time Series\n",
    "\n",
    "In this notebook, we will predict the weather temperature. "
   ]
  },
  {
   "cell_type": "code",
   "execution_count": 1,
   "metadata": {},
   "outputs": [],
   "source": [
    "import tensorflow as tf\n",
    "from tensorflow import keras\n",
    "from sklearn.metrics import mean_squared_error\n",
    "\n",
    "\n",
    "# Common imports\n",
    "import numpy as np\n",
    "import os\n",
    "\n",
    "# to make this notebook's output stable across runs\n",
    "np.random.seed(42)\n",
    "\n",
    "# To plot pretty figures\n",
    "%matplotlib inline\n",
    "import matplotlib as mpl\n",
    "import matplotlib.pyplot as plt\n",
    "mpl.rc('axes', labelsize=14)\n",
    "mpl.rc('xtick', labelsize=12)\n",
    "mpl.rc('ytick', labelsize=12)"
   ]
  },
  {
   "cell_type": "markdown",
   "metadata": {},
   "source": [
    "# Read the Dataset"
   ]
  },
  {
   "cell_type": "code",
   "execution_count": 2,
   "metadata": {},
   "outputs": [
    {
     "data": {
      "text/html": [
       "<div>\n",
       "<style scoped>\n",
       "    .dataframe tbody tr th:only-of-type {\n",
       "        vertical-align: middle;\n",
       "    }\n",
       "\n",
       "    .dataframe tbody tr th {\n",
       "        vertical-align: top;\n",
       "    }\n",
       "\n",
       "    .dataframe thead th {\n",
       "        text-align: right;\n",
       "    }\n",
       "</style>\n",
       "<table border=\"1\" class=\"dataframe\">\n",
       "  <thead>\n",
       "    <tr style=\"text-align: right;\">\n",
       "      <th></th>\n",
       "      <th>Date</th>\n",
       "      <th>Open</th>\n",
       "      <th>High</th>\n",
       "      <th>Low</th>\n",
       "      <th>Close</th>\n",
       "      <th>Adj Close</th>\n",
       "      <th>Volume</th>\n",
       "    </tr>\n",
       "  </thead>\n",
       "  <tbody>\n",
       "    <tr>\n",
       "      <th>0</th>\n",
       "      <td>2022-11-25</td>\n",
       "      <td>152.119995</td>\n",
       "      <td>153.089996</td>\n",
       "      <td>151.860001</td>\n",
       "      <td>153.070007</td>\n",
       "      <td>151.872665</td>\n",
       "      <td>2925800</td>\n",
       "    </tr>\n",
       "    <tr>\n",
       "      <th>1</th>\n",
       "      <td>2022-11-28</td>\n",
       "      <td>152.720001</td>\n",
       "      <td>154.639999</td>\n",
       "      <td>152.720001</td>\n",
       "      <td>153.509995</td>\n",
       "      <td>152.309219</td>\n",
       "      <td>5891600</td>\n",
       "    </tr>\n",
       "    <tr>\n",
       "      <th>2</th>\n",
       "      <td>2022-11-29</td>\n",
       "      <td>153.029999</td>\n",
       "      <td>153.710007</td>\n",
       "      <td>152.550003</td>\n",
       "      <td>152.970001</td>\n",
       "      <td>151.773438</td>\n",
       "      <td>4613900</td>\n",
       "    </tr>\n",
       "    <tr>\n",
       "      <th>3</th>\n",
       "      <td>2022-11-30</td>\n",
       "      <td>152.610001</td>\n",
       "      <td>152.770004</td>\n",
       "      <td>151.199997</td>\n",
       "      <td>152.419998</td>\n",
       "      <td>151.227737</td>\n",
       "      <td>10446000</td>\n",
       "    </tr>\n",
       "    <tr>\n",
       "      <th>4</th>\n",
       "      <td>2022-12-01</td>\n",
       "      <td>152.050003</td>\n",
       "      <td>153.610001</td>\n",
       "      <td>150.729996</td>\n",
       "      <td>153.369995</td>\n",
       "      <td>152.170303</td>\n",
       "      <td>7577400</td>\n",
       "    </tr>\n",
       "  </tbody>\n",
       "</table>\n",
       "</div>"
      ],
      "text/plain": [
       "         Date        Open        High         Low       Close   Adj Close  \\\n",
       "0  2022-11-25  152.119995  153.089996  151.860001  153.070007  151.872665   \n",
       "1  2022-11-28  152.720001  154.639999  152.720001  153.509995  152.309219   \n",
       "2  2022-11-29  153.029999  153.710007  152.550003  152.970001  151.773438   \n",
       "3  2022-11-30  152.610001  152.770004  151.199997  152.419998  151.227737   \n",
       "4  2022-12-01  152.050003  153.610001  150.729996  153.369995  152.170303   \n",
       "\n",
       "     Volume  \n",
       "0   2925800  \n",
       "1   5891600  \n",
       "2   4613900  \n",
       "3  10446000  \n",
       "4   7577400  "
      ]
     },
     "execution_count": 2,
     "metadata": {},
     "output_type": "execute_result"
    }
   ],
   "source": [
    "import pandas as pd\n",
    "\n",
    "walmart = pd.read_csv('walmart data.csv')\n",
    "\n",
    "walmart.head()"
   ]
  },
  {
   "cell_type": "code",
   "execution_count": 3,
   "metadata": {},
   "outputs": [
    {
     "data": {
      "text/html": [
       "<div>\n",
       "<style scoped>\n",
       "    .dataframe tbody tr th:only-of-type {\n",
       "        vertical-align: middle;\n",
       "    }\n",
       "\n",
       "    .dataframe tbody tr th {\n",
       "        vertical-align: top;\n",
       "    }\n",
       "\n",
       "    .dataframe thead th {\n",
       "        text-align: right;\n",
       "    }\n",
       "</style>\n",
       "<table border=\"1\" class=\"dataframe\">\n",
       "  <thead>\n",
       "    <tr style=\"text-align: right;\">\n",
       "      <th></th>\n",
       "      <th>Date</th>\n",
       "      <th>Open</th>\n",
       "      <th>High</th>\n",
       "      <th>Low</th>\n",
       "      <th>Close</th>\n",
       "      <th>Adj Close</th>\n",
       "      <th>Volume</th>\n",
       "    </tr>\n",
       "  </thead>\n",
       "  <tbody>\n",
       "    <tr>\n",
       "      <th>0</th>\n",
       "      <td>2022-11-25</td>\n",
       "      <td>152.119995</td>\n",
       "      <td>153.089996</td>\n",
       "      <td>151.860001</td>\n",
       "      <td>153.070007</td>\n",
       "      <td>151.872665</td>\n",
       "      <td>2925800</td>\n",
       "    </tr>\n",
       "    <tr>\n",
       "      <th>1</th>\n",
       "      <td>2022-11-28</td>\n",
       "      <td>152.720001</td>\n",
       "      <td>154.639999</td>\n",
       "      <td>152.720001</td>\n",
       "      <td>153.509995</td>\n",
       "      <td>152.309219</td>\n",
       "      <td>5891600</td>\n",
       "    </tr>\n",
       "    <tr>\n",
       "      <th>2</th>\n",
       "      <td>2022-11-29</td>\n",
       "      <td>153.029999</td>\n",
       "      <td>153.710007</td>\n",
       "      <td>152.550003</td>\n",
       "      <td>152.970001</td>\n",
       "      <td>151.773438</td>\n",
       "      <td>4613900</td>\n",
       "    </tr>\n",
       "    <tr>\n",
       "      <th>3</th>\n",
       "      <td>2022-11-30</td>\n",
       "      <td>152.610001</td>\n",
       "      <td>152.770004</td>\n",
       "      <td>151.199997</td>\n",
       "      <td>152.419998</td>\n",
       "      <td>151.227737</td>\n",
       "      <td>10446000</td>\n",
       "    </tr>\n",
       "    <tr>\n",
       "      <th>4</th>\n",
       "      <td>2022-12-01</td>\n",
       "      <td>152.050003</td>\n",
       "      <td>153.610001</td>\n",
       "      <td>150.729996</td>\n",
       "      <td>153.369995</td>\n",
       "      <td>152.170303</td>\n",
       "      <td>7577400</td>\n",
       "    </tr>\n",
       "    <tr>\n",
       "      <th>...</th>\n",
       "      <td>...</td>\n",
       "      <td>...</td>\n",
       "      <td>...</td>\n",
       "      <td>...</td>\n",
       "      <td>...</td>\n",
       "      <td>...</td>\n",
       "      <td>...</td>\n",
       "    </tr>\n",
       "    <tr>\n",
       "      <th>95</th>\n",
       "      <td>2023-04-14</td>\n",
       "      <td>149.029999</td>\n",
       "      <td>149.889999</td>\n",
       "      <td>148.149994</td>\n",
       "      <td>148.479996</td>\n",
       "      <td>148.479996</td>\n",
       "      <td>3488300</td>\n",
       "    </tr>\n",
       "    <tr>\n",
       "      <th>96</th>\n",
       "      <td>2023-04-17</td>\n",
       "      <td>148.639999</td>\n",
       "      <td>149.669998</td>\n",
       "      <td>148.500000</td>\n",
       "      <td>149.520004</td>\n",
       "      <td>149.520004</td>\n",
       "      <td>5388900</td>\n",
       "    </tr>\n",
       "    <tr>\n",
       "      <th>97</th>\n",
       "      <td>2023-04-18</td>\n",
       "      <td>149.779999</td>\n",
       "      <td>150.339996</td>\n",
       "      <td>149.440002</td>\n",
       "      <td>149.850006</td>\n",
       "      <td>149.850006</td>\n",
       "      <td>4494100</td>\n",
       "    </tr>\n",
       "    <tr>\n",
       "      <th>98</th>\n",
       "      <td>2023-04-19</td>\n",
       "      <td>150.839996</td>\n",
       "      <td>151.410004</td>\n",
       "      <td>149.770004</td>\n",
       "      <td>150.009995</td>\n",
       "      <td>150.009995</td>\n",
       "      <td>4144500</td>\n",
       "    </tr>\n",
       "    <tr>\n",
       "      <th>99</th>\n",
       "      <td>2023-04-20</td>\n",
       "      <td>150.210007</td>\n",
       "      <td>151.389999</td>\n",
       "      <td>149.600006</td>\n",
       "      <td>150.970001</td>\n",
       "      <td>150.970001</td>\n",
       "      <td>4547200</td>\n",
       "    </tr>\n",
       "  </tbody>\n",
       "</table>\n",
       "<p>100 rows × 7 columns</p>\n",
       "</div>"
      ],
      "text/plain": [
       "          Date        Open        High         Low       Close   Adj Close  \\\n",
       "0   2022-11-25  152.119995  153.089996  151.860001  153.070007  151.872665   \n",
       "1   2022-11-28  152.720001  154.639999  152.720001  153.509995  152.309219   \n",
       "2   2022-11-29  153.029999  153.710007  152.550003  152.970001  151.773438   \n",
       "3   2022-11-30  152.610001  152.770004  151.199997  152.419998  151.227737   \n",
       "4   2022-12-01  152.050003  153.610001  150.729996  153.369995  152.170303   \n",
       "..         ...         ...         ...         ...         ...         ...   \n",
       "95  2023-04-14  149.029999  149.889999  148.149994  148.479996  148.479996   \n",
       "96  2023-04-17  148.639999  149.669998  148.500000  149.520004  149.520004   \n",
       "97  2023-04-18  149.779999  150.339996  149.440002  149.850006  149.850006   \n",
       "98  2023-04-19  150.839996  151.410004  149.770004  150.009995  150.009995   \n",
       "99  2023-04-20  150.210007  151.389999  149.600006  150.970001  150.970001   \n",
       "\n",
       "      Volume  \n",
       "0    2925800  \n",
       "1    5891600  \n",
       "2    4613900  \n",
       "3   10446000  \n",
       "4    7577400  \n",
       "..       ...  \n",
       "95   3488300  \n",
       "96   5388900  \n",
       "97   4494100  \n",
       "98   4144500  \n",
       "99   4547200  \n",
       "\n",
       "[100 rows x 7 columns]"
      ]
     },
     "execution_count": 3,
     "metadata": {},
     "output_type": "execute_result"
    }
   ],
   "source": [
    "walmart"
   ]
  },
  {
   "cell_type": "code",
   "execution_count": 4,
   "metadata": {},
   "outputs": [],
   "source": [
    "#Drop the columns we don't need\n",
    "\n",
    "walmart = walmart.drop(['Open', 'High', 'Low', 'Adj Close', 'Volume'], axis=1)"
   ]
  },
  {
   "cell_type": "code",
   "execution_count": 5,
   "metadata": {},
   "outputs": [
    {
     "data": {
      "text/html": [
       "<div>\n",
       "<style scoped>\n",
       "    .dataframe tbody tr th:only-of-type {\n",
       "        vertical-align: middle;\n",
       "    }\n",
       "\n",
       "    .dataframe tbody tr th {\n",
       "        vertical-align: top;\n",
       "    }\n",
       "\n",
       "    .dataframe thead th {\n",
       "        text-align: right;\n",
       "    }\n",
       "</style>\n",
       "<table border=\"1\" class=\"dataframe\">\n",
       "  <thead>\n",
       "    <tr style=\"text-align: right;\">\n",
       "      <th></th>\n",
       "      <th>Date</th>\n",
       "      <th>Close</th>\n",
       "    </tr>\n",
       "  </thead>\n",
       "  <tbody>\n",
       "    <tr>\n",
       "      <th>0</th>\n",
       "      <td>2022-11-25</td>\n",
       "      <td>153.070007</td>\n",
       "    </tr>\n",
       "    <tr>\n",
       "      <th>1</th>\n",
       "      <td>2022-11-28</td>\n",
       "      <td>153.509995</td>\n",
       "    </tr>\n",
       "    <tr>\n",
       "      <th>2</th>\n",
       "      <td>2022-11-29</td>\n",
       "      <td>152.970001</td>\n",
       "    </tr>\n",
       "    <tr>\n",
       "      <th>3</th>\n",
       "      <td>2022-11-30</td>\n",
       "      <td>152.419998</td>\n",
       "    </tr>\n",
       "    <tr>\n",
       "      <th>4</th>\n",
       "      <td>2022-12-01</td>\n",
       "      <td>153.369995</td>\n",
       "    </tr>\n",
       "    <tr>\n",
       "      <th>...</th>\n",
       "      <td>...</td>\n",
       "      <td>...</td>\n",
       "    </tr>\n",
       "    <tr>\n",
       "      <th>95</th>\n",
       "      <td>2023-04-14</td>\n",
       "      <td>148.479996</td>\n",
       "    </tr>\n",
       "    <tr>\n",
       "      <th>96</th>\n",
       "      <td>2023-04-17</td>\n",
       "      <td>149.520004</td>\n",
       "    </tr>\n",
       "    <tr>\n",
       "      <th>97</th>\n",
       "      <td>2023-04-18</td>\n",
       "      <td>149.850006</td>\n",
       "    </tr>\n",
       "    <tr>\n",
       "      <th>98</th>\n",
       "      <td>2023-04-19</td>\n",
       "      <td>150.009995</td>\n",
       "    </tr>\n",
       "    <tr>\n",
       "      <th>99</th>\n",
       "      <td>2023-04-20</td>\n",
       "      <td>150.970001</td>\n",
       "    </tr>\n",
       "  </tbody>\n",
       "</table>\n",
       "<p>100 rows × 2 columns</p>\n",
       "</div>"
      ],
      "text/plain": [
       "          Date       Close\n",
       "0   2022-11-25  153.070007\n",
       "1   2022-11-28  153.509995\n",
       "2   2022-11-29  152.970001\n",
       "3   2022-11-30  152.419998\n",
       "4   2022-12-01  153.369995\n",
       "..         ...         ...\n",
       "95  2023-04-14  148.479996\n",
       "96  2023-04-17  149.520004\n",
       "97  2023-04-18  149.850006\n",
       "98  2023-04-19  150.009995\n",
       "99  2023-04-20  150.970001\n",
       "\n",
       "[100 rows x 2 columns]"
      ]
     },
     "execution_count": 5,
     "metadata": {},
     "output_type": "execute_result"
    }
   ],
   "source": [
    "walmart"
   ]
  },
  {
   "cell_type": "code",
   "execution_count": 6,
   "metadata": {},
   "outputs": [
    {
     "data": {
      "image/png": "[encoded data removed]",
      "text/plain": [
       "<Figure size 432x288 with 1 Axes>"
      ]
     },
     "metadata": {
      "needs_background": "light"
     },
     "output_type": "display_data"
    }
   ],
   "source": [
    "#Plot temp\n",
    "\n",
    "plt.plot(walmart['Close'])\n",
    "plt.show()"
   ]
  },
  {
   "cell_type": "markdown",
   "metadata": {},
   "source": [
    "# Data Cleanup"
   ]
  },
  {
   "cell_type": "code",
   "execution_count": 7,
   "metadata": {},
   "outputs": [],
   "source": [
    "# Remove all null values\n",
    "\n",
    "walmart = walmart.dropna().reset_index(drop=True)"
   ]
  },
  {
   "cell_type": "code",
   "execution_count": 8,
   "metadata": {},
   "outputs": [
    {
     "data": {
      "image/png": "[encoded data removed]",
      "text/plain": [
       "<Figure size 432x288 with 1 Axes>"
      ]
     },
     "metadata": {
      "needs_background": "light"
     },
     "output_type": "display_data"
    }
   ],
   "source": [
    "plt.plot(walmart['Close'])\n",
    "plt.show()"
   ]
  },
  {
   "cell_type": "markdown",
   "metadata": {},
   "source": [
    "## RESHAPE the data set!"
   ]
  },
  {
   "cell_type": "code",
   "execution_count": 9,
   "metadata": {},
   "outputs": [
    {
     "data": {
      "text/plain": [
       "(100, 2)"
      ]
     },
     "execution_count": 9,
     "metadata": {},
     "output_type": "execute_result"
    }
   ],
   "source": [
    "walmart.shape"
   ]
  },
  {
   "cell_type": "code",
   "execution_count": 10,
   "metadata": {},
   "outputs": [
    {
     "data": {
      "text/plain": [
       "10.0"
      ]
     },
     "execution_count": 10,
     "metadata": {},
     "output_type": "execute_result"
    }
   ],
   "source": [
    "# Note that not all days have 24 readings. Some are missing.\n",
    "\n",
    "walmart.shape[0]/10"
   ]
  },
  {
   "cell_type": "code",
   "execution_count": 11,
   "metadata": {},
   "outputs": [
    {
     "data": {
      "text/html": [
       "<div>\n",
       "<style scoped>\n",
       "    .dataframe tbody tr th:only-of-type {\n",
       "        vertical-align: middle;\n",
       "    }\n",
       "\n",
       "    .dataframe tbody tr th {\n",
       "        vertical-align: top;\n",
       "    }\n",
       "\n",
       "    .dataframe thead th {\n",
       "        text-align: right;\n",
       "    }\n",
       "</style>\n",
       "<table border=\"1\" class=\"dataframe\">\n",
       "  <thead>\n",
       "    <tr style=\"text-align: right;\">\n",
       "      <th></th>\n",
       "      <th>Close</th>\n",
       "    </tr>\n",
       "    <tr>\n",
       "      <th>Date</th>\n",
       "      <th></th>\n",
       "    </tr>\n",
       "  </thead>\n",
       "  <tbody>\n",
       "    <tr>\n",
       "      <th>2022-11-25</th>\n",
       "      <td>1</td>\n",
       "    </tr>\n",
       "    <tr>\n",
       "      <th>2022-11-28</th>\n",
       "      <td>1</td>\n",
       "    </tr>\n",
       "    <tr>\n",
       "      <th>2022-11-29</th>\n",
       "      <td>1</td>\n",
       "    </tr>\n",
       "    <tr>\n",
       "      <th>2022-11-30</th>\n",
       "      <td>1</td>\n",
       "    </tr>\n",
       "    <tr>\n",
       "      <th>2022-12-01</th>\n",
       "      <td>1</td>\n",
       "    </tr>\n",
       "    <tr>\n",
       "      <th>...</th>\n",
       "      <td>...</td>\n",
       "    </tr>\n",
       "    <tr>\n",
       "      <th>2023-04-14</th>\n",
       "      <td>1</td>\n",
       "    </tr>\n",
       "    <tr>\n",
       "      <th>2023-04-17</th>\n",
       "      <td>1</td>\n",
       "    </tr>\n",
       "    <tr>\n",
       "      <th>2023-04-18</th>\n",
       "      <td>1</td>\n",
       "    </tr>\n",
       "    <tr>\n",
       "      <th>2023-04-19</th>\n",
       "      <td>1</td>\n",
       "    </tr>\n",
       "    <tr>\n",
       "      <th>2023-04-20</th>\n",
       "      <td>1</td>\n",
       "    </tr>\n",
       "  </tbody>\n",
       "</table>\n",
       "<p>100 rows × 1 columns</p>\n",
       "</div>"
      ],
      "text/plain": [
       "            Close\n",
       "Date             \n",
       "2022-11-25      1\n",
       "2022-11-28      1\n",
       "2022-11-29      1\n",
       "2022-11-30      1\n",
       "2022-12-01      1\n",
       "...           ...\n",
       "2023-04-14      1\n",
       "2023-04-17      1\n",
       "2023-04-18      1\n",
       "2023-04-19      1\n",
       "2023-04-20      1\n",
       "\n",
       "[100 rows x 1 columns]"
      ]
     },
     "execution_count": 11,
     "metadata": {},
     "output_type": "execute_result"
    }
   ],
   "source": [
    "walmart.groupby(['Date']).count()"
   ]
  },
  {
   "cell_type": "code",
   "execution_count": 12,
   "metadata": {},
   "outputs": [
    {
     "data": {
      "text/plain": [
       "array([[153.070007, 153.509995, 152.970001, 152.419998, 153.369995,\n",
       "        153.220001, 151.649994, 149.889999, 149.110001, 148.779999],\n",
       "       [145.309998, 148.020004, 147.490005, 146.669998, 145.360001,\n",
       "        142.75    , 142.800003, 144.050003, 145.179993, 143.479996],\n",
       "       [143.770004, 143.809998, 141.289993, 142.149994, 141.789993,\n",
       "        143.600006, 143.759995, 143.270004, 146.779999, 144.949997],\n",
       "       [144.860001, 146.130005, 144.809998, 145.289993, 144.410004,\n",
       "        140.839996, 138.830002, 140.539993, 142.639999, 143.020004],\n",
       "       [142.339996, 142.210007, 143.300003, 142.149994, 143.869995,\n",
       "        144.669998, 143.619995, 141.710007, 140.679993, 140.979996],\n",
       "       [140.220001, 141.520004, 143.720001, 145.910004, 145.490005,\n",
       "        146.570007, 144.270004, 146.440002, 147.330002, 144.240005],\n",
       "       [142.089996, 142.470001, 141.440002, 142.130005, 140.149994,\n",
       "        140.5     , 140.669998, 140.649994, 139.25    , 138.100006],\n",
       "       [137.169998, 136.970001, 137.369995, 138.100006, 139.639999,\n",
       "        138.279999, 139.399994, 140.899994, 140.419998, 139.520004],\n",
       "       [140.649994, 141.800003, 144.169998, 143.610001, 144.229996,\n",
       "        145.669998, 147.449997, 148.690002, 147.229996, 149.669998],\n",
       "       [150.800003, 150.509995, 150.070007, 149.339996, 149.490005,\n",
       "        148.479996, 149.520004, 149.850006, 150.009995, 150.970001]])"
      ]
     },
     "execution_count": 12,
     "metadata": {},
     "output_type": "execute_result"
    }
   ],
   "source": [
    "# Re-organize the data set by day and hours\n",
    "\n",
    "temp = np.array(walmart['Close']).reshape(10,10)\n",
    "\n",
    "temp"
   ]
  },
  {
   "cell_type": "code",
   "execution_count": 13,
   "metadata": {},
   "outputs": [
    {
     "data": {
      "text/html": [
       "<div>\n",
       "<style scoped>\n",
       "    .dataframe tbody tr th:only-of-type {\n",
       "        vertical-align: middle;\n",
       "    }\n",
       "\n",
       "    .dataframe tbody tr th {\n",
       "        vertical-align: top;\n",
       "    }\n",
       "\n",
       "    .dataframe thead th {\n",
       "        text-align: right;\n",
       "    }\n",
       "</style>\n",
       "<table border=\"1\" class=\"dataframe\">\n",
       "  <thead>\n",
       "    <tr style=\"text-align: right;\">\n",
       "      <th></th>\n",
       "      <th>0</th>\n",
       "      <th>1</th>\n",
       "      <th>2</th>\n",
       "      <th>3</th>\n",
       "      <th>4</th>\n",
       "      <th>5</th>\n",
       "      <th>6</th>\n",
       "      <th>7</th>\n",
       "      <th>8</th>\n",
       "      <th>9</th>\n",
       "    </tr>\n",
       "  </thead>\n",
       "  <tbody>\n",
       "    <tr>\n",
       "      <th>0</th>\n",
       "      <td>153.070007</td>\n",
       "      <td>153.509995</td>\n",
       "      <td>152.970001</td>\n",
       "      <td>152.419998</td>\n",
       "      <td>153.369995</td>\n",
       "      <td>153.220001</td>\n",
       "      <td>151.649994</td>\n",
       "      <td>149.889999</td>\n",
       "      <td>149.110001</td>\n",
       "      <td>148.779999</td>\n",
       "    </tr>\n",
       "    <tr>\n",
       "      <th>1</th>\n",
       "      <td>145.309998</td>\n",
       "      <td>148.020004</td>\n",
       "      <td>147.490005</td>\n",
       "      <td>146.669998</td>\n",
       "      <td>145.360001</td>\n",
       "      <td>142.750000</td>\n",
       "      <td>142.800003</td>\n",
       "      <td>144.050003</td>\n",
       "      <td>145.179993</td>\n",
       "      <td>143.479996</td>\n",
       "    </tr>\n",
       "    <tr>\n",
       "      <th>2</th>\n",
       "      <td>143.770004</td>\n",
       "      <td>143.809998</td>\n",
       "      <td>141.289993</td>\n",
       "      <td>142.149994</td>\n",
       "      <td>141.789993</td>\n",
       "      <td>143.600006</td>\n",
       "      <td>143.759995</td>\n",
       "      <td>143.270004</td>\n",
       "      <td>146.779999</td>\n",
       "      <td>144.949997</td>\n",
       "    </tr>\n",
       "    <tr>\n",
       "      <th>3</th>\n",
       "      <td>144.860001</td>\n",
       "      <td>146.130005</td>\n",
       "      <td>144.809998</td>\n",
       "      <td>145.289993</td>\n",
       "      <td>144.410004</td>\n",
       "      <td>140.839996</td>\n",
       "      <td>138.830002</td>\n",
       "      <td>140.539993</td>\n",
       "      <td>142.639999</td>\n",
       "      <td>143.020004</td>\n",
       "    </tr>\n",
       "    <tr>\n",
       "      <th>4</th>\n",
       "      <td>142.339996</td>\n",
       "      <td>142.210007</td>\n",
       "      <td>143.300003</td>\n",
       "      <td>142.149994</td>\n",
       "      <td>143.869995</td>\n",
       "      <td>144.669998</td>\n",
       "      <td>143.619995</td>\n",
       "      <td>141.710007</td>\n",
       "      <td>140.679993</td>\n",
       "      <td>140.979996</td>\n",
       "    </tr>\n",
       "    <tr>\n",
       "      <th>5</th>\n",
       "      <td>140.220001</td>\n",
       "      <td>141.520004</td>\n",
       "      <td>143.720001</td>\n",
       "      <td>145.910004</td>\n",
       "      <td>145.490005</td>\n",
       "      <td>146.570007</td>\n",
       "      <td>144.270004</td>\n",
       "      <td>146.440002</td>\n",
       "      <td>147.330002</td>\n",
       "      <td>144.240005</td>\n",
       "    </tr>\n",
       "    <tr>\n",
       "      <th>6</th>\n",
       "      <td>142.089996</td>\n",
       "      <td>142.470001</td>\n",
       "      <td>141.440002</td>\n",
       "      <td>142.130005</td>\n",
       "      <td>140.149994</td>\n",
       "      <td>140.500000</td>\n",
       "      <td>140.669998</td>\n",
       "      <td>140.649994</td>\n",
       "      <td>139.250000</td>\n",
       "      <td>138.100006</td>\n",
       "    </tr>\n",
       "    <tr>\n",
       "      <th>7</th>\n",
       "      <td>137.169998</td>\n",
       "      <td>136.970001</td>\n",
       "      <td>137.369995</td>\n",
       "      <td>138.100006</td>\n",
       "      <td>139.639999</td>\n",
       "      <td>138.279999</td>\n",
       "      <td>139.399994</td>\n",
       "      <td>140.899994</td>\n",
       "      <td>140.419998</td>\n",
       "      <td>139.520004</td>\n",
       "    </tr>\n",
       "    <tr>\n",
       "      <th>8</th>\n",
       "      <td>140.649994</td>\n",
       "      <td>141.800003</td>\n",
       "      <td>144.169998</td>\n",
       "      <td>143.610001</td>\n",
       "      <td>144.229996</td>\n",
       "      <td>145.669998</td>\n",
       "      <td>147.449997</td>\n",
       "      <td>148.690002</td>\n",
       "      <td>147.229996</td>\n",
       "      <td>149.669998</td>\n",
       "    </tr>\n",
       "    <tr>\n",
       "      <th>9</th>\n",
       "      <td>150.800003</td>\n",
       "      <td>150.509995</td>\n",
       "      <td>150.070007</td>\n",
       "      <td>149.339996</td>\n",
       "      <td>149.490005</td>\n",
       "      <td>148.479996</td>\n",
       "      <td>149.520004</td>\n",
       "      <td>149.850006</td>\n",
       "      <td>150.009995</td>\n",
       "      <td>150.970001</td>\n",
       "    </tr>\n",
       "  </tbody>\n",
       "</table>\n",
       "</div>"
      ],
      "text/plain": [
       "            0           1           2           3           4           5  \\\n",
       "0  153.070007  153.509995  152.970001  152.419998  153.369995  153.220001   \n",
       "1  145.309998  148.020004  147.490005  146.669998  145.360001  142.750000   \n",
       "2  143.770004  143.809998  141.289993  142.149994  141.789993  143.600006   \n",
       "3  144.860001  146.130005  144.809998  145.289993  144.410004  140.839996   \n",
       "4  142.339996  142.210007  143.300003  142.149994  143.869995  144.669998   \n",
       "5  140.220001  141.520004  143.720001  145.910004  145.490005  146.570007   \n",
       "6  142.089996  142.470001  141.440002  142.130005  140.149994  140.500000   \n",
       "7  137.169998  136.970001  137.369995  138.100006  139.639999  138.279999   \n",
       "8  140.649994  141.800003  144.169998  143.610001  144.229996  145.669998   \n",
       "9  150.800003  150.509995  150.070007  149.339996  149.490005  148.479996   \n",
       "\n",
       "            6           7           8           9  \n",
       "0  151.649994  149.889999  149.110001  148.779999  \n",
       "1  142.800003  144.050003  145.179993  143.479996  \n",
       "2  143.759995  143.270004  146.779999  144.949997  \n",
       "3  138.830002  140.539993  142.639999  143.020004  \n",
       "4  143.619995  141.710007  140.679993  140.979996  \n",
       "5  144.270004  146.440002  147.330002  144.240005  \n",
       "6  140.669998  140.649994  139.250000  138.100006  \n",
       "7  139.399994  140.899994  140.419998  139.520004  \n",
       "8  147.449997  148.690002  147.229996  149.669998  \n",
       "9  149.520004  149.850006  150.009995  150.970001  "
      ]
     },
     "execution_count": 13,
     "metadata": {},
     "output_type": "execute_result"
    }
   ],
   "source": [
    "# Convert to dataframe\n",
    "\n",
    "temp_df = pd.DataFrame(temp, columns=np.arange(0,10,1))\n",
    "\n",
    "temp_df"
   ]
  },
  {
   "cell_type": "markdown",
   "metadata": {},
   "source": [
    "# Reshape for Standardizing Data"
   ]
  },
  {
   "cell_type": "code",
   "execution_count": 14,
   "metadata": {},
   "outputs": [
    {
     "data": {
      "text/plain": [
       "(100, 1)"
      ]
     },
     "execution_count": 14,
     "metadata": {},
     "output_type": "execute_result"
    }
   ],
   "source": [
    "# Let's create a single sequence (i.e., feature) for standardization\n",
    "\n",
    "temp_1feature = np.array(temp_df).ravel().reshape(-1,1)\n",
    "\n",
    "temp_1feature.shape"
   ]
  },
  {
   "cell_type": "code",
   "execution_count": 15,
   "metadata": {
    "scrolled": true
   },
   "outputs": [
    {
     "data": {
      "text/plain": [
       "array([[153.070007],\n",
       "       [153.509995],\n",
       "       [152.970001],\n",
       "       [152.419998],\n",
       "       [153.369995],\n",
       "       [153.220001],\n",
       "       [151.649994],\n",
       "       [149.889999],\n",
       "       [149.110001],\n",
       "       [148.779999],\n",
       "       [145.309998],\n",
       "       [148.020004],\n",
       "       [147.490005],\n",
       "       [146.669998],\n",
       "       [145.360001],\n",
       "       [142.75    ],\n",
       "       [142.800003],\n",
       "       [144.050003],\n",
       "       [145.179993],\n",
       "       [143.479996],\n",
       "       [143.770004],\n",
       "       [143.809998],\n",
       "       [141.289993],\n",
       "       [142.149994],\n",
       "       [141.789993],\n",
       "       [143.600006],\n",
       "       [143.759995],\n",
       "       [143.270004],\n",
       "       [146.779999],\n",
       "       [144.949997],\n",
       "       [144.860001],\n",
       "       [146.130005],\n",
       "       [144.809998],\n",
       "       [145.289993],\n",
       "       [144.410004],\n",
       "       [140.839996],\n",
       "       [138.830002],\n",
       "       [140.539993],\n",
       "       [142.639999],\n",
       "       [143.020004],\n",
       "       [142.339996],\n",
       "       [142.210007],\n",
       "       [143.300003],\n",
       "       [142.149994],\n",
       "       [143.869995],\n",
       "       [144.669998],\n",
       "       [143.619995],\n",
       "       [141.710007],\n",
       "       [140.679993],\n",
       "       [140.979996],\n",
       "       [140.220001],\n",
       "       [141.520004],\n",
       "       [143.720001],\n",
       "       [145.910004],\n",
       "       [145.490005],\n",
       "       [146.570007],\n",
       "       [144.270004],\n",
       "       [146.440002],\n",
       "       [147.330002],\n",
       "       [144.240005],\n",
       "       [142.089996],\n",
       "       [142.470001],\n",
       "       [141.440002],\n",
       "       [142.130005],\n",
       "       [140.149994],\n",
       "       [140.5     ],\n",
       "       [140.669998],\n",
       "       [140.649994],\n",
       "       [139.25    ],\n",
       "       [138.100006],\n",
       "       [137.169998],\n",
       "       [136.970001],\n",
       "       [137.369995],\n",
       "       [138.100006],\n",
       "       [139.639999],\n",
       "       [138.279999],\n",
       "       [139.399994],\n",
       "       [140.899994],\n",
       "       [140.419998],\n",
       "       [139.520004],\n",
       "       [140.649994],\n",
       "       [141.800003],\n",
       "       [144.169998],\n",
       "       [143.610001],\n",
       "       [144.229996],\n",
       "       [145.669998],\n",
       "       [147.449997],\n",
       "       [148.690002],\n",
       "       [147.229996],\n",
       "       [149.669998],\n",
       "       [150.800003],\n",
       "       [150.509995],\n",
       "       [150.070007],\n",
       "       [149.339996],\n",
       "       [149.490005],\n",
       "       [148.479996],\n",
       "       [149.520004],\n",
       "       [149.850006],\n",
       "       [150.009995],\n",
       "       [150.970001]])"
      ]
     },
     "execution_count": 15,
     "metadata": {},
     "output_type": "execute_result"
    }
   ],
   "source": [
    "temp_1feature"
   ]
  },
  {
   "cell_type": "markdown",
   "metadata": {},
   "source": [
    "## Standardize the values"
   ]
  },
  {
   "cell_type": "code",
   "execution_count": 16,
   "metadata": {},
   "outputs": [],
   "source": [
    "# Next, standardize\n",
    "\n",
    "from sklearn.preprocessing import StandardScaler\n",
    "\n",
    "scaler = StandardScaler()\n",
    "\n",
    "temp_std = scaler.fit_transform(temp_1feature)"
   ]
  },
  {
   "cell_type": "markdown",
   "metadata": {},
   "source": [
    "## Reshape the data back to 24-hour format"
   ]
  },
  {
   "cell_type": "code",
   "execution_count": 17,
   "metadata": {},
   "outputs": [
    {
     "data": {
      "text/plain": [
       "(10, 10)"
      ]
     },
     "execution_count": 17,
     "metadata": {},
     "output_type": "execute_result"
    }
   ],
   "source": [
    "temp_reshaped = temp_std.reshape(10,10)\n",
    "\n",
    "temp_reshaped.shape"
   ]
  },
  {
   "cell_type": "code",
   "execution_count": 18,
   "metadata": {},
   "outputs": [
    {
     "data": {
      "text/html": [
       "<div>\n",
       "<style scoped>\n",
       "    .dataframe tbody tr th:only-of-type {\n",
       "        vertical-align: middle;\n",
       "    }\n",
       "\n",
       "    .dataframe tbody tr th {\n",
       "        vertical-align: top;\n",
       "    }\n",
       "\n",
       "    .dataframe thead th {\n",
       "        text-align: right;\n",
       "    }\n",
       "</style>\n",
       "<table border=\"1\" class=\"dataframe\">\n",
       "  <thead>\n",
       "    <tr style=\"text-align: right;\">\n",
       "      <th></th>\n",
       "      <th>0</th>\n",
       "      <th>1</th>\n",
       "      <th>2</th>\n",
       "      <th>3</th>\n",
       "      <th>4</th>\n",
       "      <th>5</th>\n",
       "      <th>6</th>\n",
       "      <th>7</th>\n",
       "      <th>8</th>\n",
       "      <th>9</th>\n",
       "    </tr>\n",
       "  </thead>\n",
       "  <tbody>\n",
       "    <tr>\n",
       "      <th>0</th>\n",
       "      <td>2.076750</td>\n",
       "      <td>2.183911</td>\n",
       "      <td>2.052394</td>\n",
       "      <td>1.918439</td>\n",
       "      <td>2.149813</td>\n",
       "      <td>2.113282</td>\n",
       "      <td>1.730902</td>\n",
       "      <td>1.302251</td>\n",
       "      <td>1.112281</td>\n",
       "      <td>1.031908</td>\n",
       "    </tr>\n",
       "    <tr>\n",
       "      <th>1</th>\n",
       "      <td>0.186780</td>\n",
       "      <td>0.846809</td>\n",
       "      <td>0.717726</td>\n",
       "      <td>0.518012</td>\n",
       "      <td>0.198958</td>\n",
       "      <td>-0.436714</td>\n",
       "      <td>-0.424536</td>\n",
       "      <td>-0.120095</td>\n",
       "      <td>0.155117</td>\n",
       "      <td>-0.258922</td>\n",
       "    </tr>\n",
       "    <tr>\n",
       "      <th>2</th>\n",
       "      <td>-0.188289</td>\n",
       "      <td>-0.178549</td>\n",
       "      <td>-0.792303</td>\n",
       "      <td>-0.582847</td>\n",
       "      <td>-0.670526</td>\n",
       "      <td>-0.229693</td>\n",
       "      <td>-0.190727</td>\n",
       "      <td>-0.310066</td>\n",
       "      <td>0.544803</td>\n",
       "      <td>0.099101</td>\n",
       "    </tr>\n",
       "    <tr>\n",
       "      <th>3</th>\n",
       "      <td>0.077182</td>\n",
       "      <td>0.386495</td>\n",
       "      <td>0.065004</td>\n",
       "      <td>0.181908</td>\n",
       "      <td>-0.032416</td>\n",
       "      <td>-0.901900</td>\n",
       "      <td>-1.391440</td>\n",
       "      <td>-0.974967</td>\n",
       "      <td>-0.463505</td>\n",
       "      <td>-0.370954</td>\n",
       "    </tr>\n",
       "    <tr>\n",
       "      <th>4</th>\n",
       "      <td>-0.536572</td>\n",
       "      <td>-0.568231</td>\n",
       "      <td>-0.302759</td>\n",
       "      <td>-0.582847</td>\n",
       "      <td>-0.163936</td>\n",
       "      <td>0.030906</td>\n",
       "      <td>-0.224825</td>\n",
       "      <td>-0.690007</td>\n",
       "      <td>-0.940870</td>\n",
       "      <td>-0.867803</td>\n",
       "    </tr>\n",
       "    <tr>\n",
       "      <th>5</th>\n",
       "      <td>-1.052902</td>\n",
       "      <td>-0.736283</td>\n",
       "      <td>-0.200468</td>\n",
       "      <td>0.332913</td>\n",
       "      <td>0.230621</td>\n",
       "      <td>0.493659</td>\n",
       "      <td>-0.066513</td>\n",
       "      <td>0.461995</td>\n",
       "      <td>0.678757</td>\n",
       "      <td>-0.073819</td>\n",
       "    </tr>\n",
       "    <tr>\n",
       "      <th>6</th>\n",
       "      <td>-0.597460</td>\n",
       "      <td>-0.504909</td>\n",
       "      <td>-0.755767</td>\n",
       "      <td>-0.587715</td>\n",
       "      <td>-1.069952</td>\n",
       "      <td>-0.984707</td>\n",
       "      <td>-0.943304</td>\n",
       "      <td>-0.948176</td>\n",
       "      <td>-1.289148</td>\n",
       "      <td>-1.569232</td>\n",
       "    </tr>\n",
       "    <tr>\n",
       "      <th>7</th>\n",
       "      <td>-1.795738</td>\n",
       "      <td>-1.844448</td>\n",
       "      <td>-1.747028</td>\n",
       "      <td>-1.569232</td>\n",
       "      <td>-1.194163</td>\n",
       "      <td>-1.525394</td>\n",
       "      <td>-1.252617</td>\n",
       "      <td>-0.887288</td>\n",
       "      <td>-1.004192</td>\n",
       "      <td>-1.223388</td>\n",
       "    </tr>\n",
       "    <tr>\n",
       "      <th>8</th>\n",
       "      <td>-0.948176</td>\n",
       "      <td>-0.668088</td>\n",
       "      <td>-0.090870</td>\n",
       "      <td>-0.227259</td>\n",
       "      <td>-0.076257</td>\n",
       "      <td>0.274459</td>\n",
       "      <td>0.707982</td>\n",
       "      <td>1.009989</td>\n",
       "      <td>0.654401</td>\n",
       "      <td>1.248669</td>\n",
       "    </tr>\n",
       "    <tr>\n",
       "      <th>9</th>\n",
       "      <td>1.523885</td>\n",
       "      <td>1.453253</td>\n",
       "      <td>1.346093</td>\n",
       "      <td>1.168297</td>\n",
       "      <td>1.204832</td>\n",
       "      <td>0.958841</td>\n",
       "      <td>1.212138</td>\n",
       "      <td>1.292511</td>\n",
       "      <td>1.331476</td>\n",
       "      <td>1.565288</td>\n",
       "    </tr>\n",
       "  </tbody>\n",
       "</table>\n",
       "</div>"
      ],
      "text/plain": [
       "          0         1         2         3         4         5         6  \\\n",
       "0  2.076750  2.183911  2.052394  1.918439  2.149813  2.113282  1.730902   \n",
       "1  0.186780  0.846809  0.717726  0.518012  0.198958 -0.436714 -0.424536   \n",
       "2 -0.188289 -0.178549 -0.792303 -0.582847 -0.670526 -0.229693 -0.190727   \n",
       "3  0.077182  0.386495  0.065004  0.181908 -0.032416 -0.901900 -1.391440   \n",
       "4 -0.536572 -0.568231 -0.302759 -0.582847 -0.163936  0.030906 -0.224825   \n",
       "5 -1.052902 -0.736283 -0.200468  0.332913  0.230621  0.493659 -0.066513   \n",
       "6 -0.597460 -0.504909 -0.755767 -0.587715 -1.069952 -0.984707 -0.943304   \n",
       "7 -1.795738 -1.844448 -1.747028 -1.569232 -1.194163 -1.525394 -1.252617   \n",
       "8 -0.948176 -0.668088 -0.090870 -0.227259 -0.076257  0.274459  0.707982   \n",
       "9  1.523885  1.453253  1.346093  1.168297  1.204832  0.958841  1.212138   \n",
       "\n",
       "          7         8         9  \n",
       "0  1.302251  1.112281  1.031908  \n",
       "1 -0.120095  0.155117 -0.258922  \n",
       "2 -0.310066  0.544803  0.099101  \n",
       "3 -0.974967 -0.463505 -0.370954  \n",
       "4 -0.690007 -0.940870 -0.867803  \n",
       "5  0.461995  0.678757 -0.073819  \n",
       "6 -0.948176 -1.289148 -1.569232  \n",
       "7 -0.887288 -1.004192 -1.223388  \n",
       "8  1.009989  0.654401  1.248669  \n",
       "9  1.292511  1.331476  1.565288  "
      ]
     },
     "execution_count": 18,
     "metadata": {},
     "output_type": "execute_result"
    }
   ],
   "source": [
    "#Pandas version of the reshaped data\n",
    "\n",
    "pd.DataFrame(temp_reshaped)"
   ]
  },
  {
   "cell_type": "markdown",
   "metadata": {},
   "source": [
    "# Split the Data\n",
    "\n",
    "**In certain cases, we cannot use a random split. For example, if we are trying to predict the stock market, we cannot use a random split. We need to use a chronological split.**\n",
    "\n",
    "BUT, keep in mind if we have something like hourly readings of dayly temperature, we can use a random split on days, but the sequence of the temperature within the day is important to remain sequential.\n",
    "\n",
    "In this case, we are using a random spli because each day as an independent sample."
   ]
  },
  {
   "cell_type": "code",
   "execution_count": 19,
   "metadata": {},
   "outputs": [],
   "source": [
    "from sklearn.model_selection import train_test_split\n",
    "\n",
    "#train, test = train_test_split(temp_reshaped, test_size=0.3)\n",
    "\n",
    "# if we neede to maintain the ordering of the data, we can use the following code to split the data\n",
    "split_point = int(len(temp_reshaped)*0.7)\n",
    "train, test = temp_reshaped[:split_point], temp_reshaped[split_point:]"
   ]
  },
  {
   "cell_type": "code",
   "execution_count": 20,
   "metadata": {},
   "outputs": [
    {
     "data": {
      "text/plain": [
       "(7, 10)"
      ]
     },
     "execution_count": 20,
     "metadata": {},
     "output_type": "execute_result"
    }
   ],
   "source": [
    "train.shape"
   ]
  },
  {
   "cell_type": "code",
   "execution_count": 21,
   "metadata": {},
   "outputs": [
    {
     "data": {
      "text/plain": [
       "array([[ 2.07675032,  2.18391053,  2.0523936 ,  1.91843895,  2.14981317,\n",
       "         2.11328175,  1.73090249,  1.30225116,  1.11228063,  1.03190779],\n",
       "       [ 0.18678008,  0.84680904,  0.71772642,  0.51801159,  0.19895844,\n",
       "        -0.43671405, -0.42453569, -0.12009496,  0.15511703, -0.25892164],\n",
       "       [-0.18828944, -0.1785488 , -0.79230252, -0.58284706, -0.67052623,\n",
       "        -0.22969289, -0.19072716, -0.31006573,  0.54480262,  0.09910091],\n",
       "       [ 0.07718215,  0.3864949 ,  0.06500379,  0.18190781, -0.03241578,\n",
       "        -0.90190046, -1.39143969, -0.97496696, -0.46350508, -0.37095388],\n",
       "       [-0.53657158, -0.56823074, -0.3027594 , -0.58284706, -0.16393637,\n",
       "         0.03090643, -0.22482452, -0.69000703, -0.9408696 , -0.8678031 ],\n",
       "       [-1.05290184, -0.73628275, -0.2004678 ,  0.33291309,  0.23062125,\n",
       "         0.49365853, -0.06651315,  0.46199547,  0.67875727, -0.07381948],\n",
       "       [-0.59745973, -0.50490853, -0.75576745, -0.58771543, -1.06995223,\n",
       "        -0.98470736, -0.94330391, -0.94817593, -1.28914809, -1.5692321 ]])"
      ]
     },
     "execution_count": 21,
     "metadata": {},
     "output_type": "execute_result"
    }
   ],
   "source": [
    "train"
   ]
  },
  {
   "cell_type": "code",
   "execution_count": 22,
   "metadata": {},
   "outputs": [
    {
     "data": {
      "text/plain": [
       "(3, 10)"
      ]
     },
     "execution_count": 22,
     "metadata": {},
     "output_type": "execute_result"
    }
   ],
   "source": [
    "test.shape"
   ]
  },
  {
   "cell_type": "markdown",
   "metadata": {},
   "source": [
    "# Create Input and Target values\n",
    "\n",
    "The first 23 hours will be input to predict the 24th hour reading (i.e., target)"
   ]
  },
  {
   "cell_type": "code",
   "execution_count": 23,
   "metadata": {
    "scrolled": true
   },
   "outputs": [
    {
     "data": {
      "text/html": [
       "<div>\n",
       "<style scoped>\n",
       "    .dataframe tbody tr th:only-of-type {\n",
       "        vertical-align: middle;\n",
       "    }\n",
       "\n",
       "    .dataframe tbody tr th {\n",
       "        vertical-align: top;\n",
       "    }\n",
       "\n",
       "    .dataframe thead th {\n",
       "        text-align: right;\n",
       "    }\n",
       "</style>\n",
       "<table border=\"1\" class=\"dataframe\">\n",
       "  <thead>\n",
       "    <tr style=\"text-align: right;\">\n",
       "      <th></th>\n",
       "      <th>0</th>\n",
       "      <th>1</th>\n",
       "      <th>2</th>\n",
       "      <th>3</th>\n",
       "      <th>4</th>\n",
       "      <th>5</th>\n",
       "      <th>6</th>\n",
       "      <th>7</th>\n",
       "      <th>8</th>\n",
       "    </tr>\n",
       "  </thead>\n",
       "  <tbody>\n",
       "    <tr>\n",
       "      <th>0</th>\n",
       "      <td>2.076750</td>\n",
       "      <td>2.183911</td>\n",
       "      <td>2.052394</td>\n",
       "      <td>1.918439</td>\n",
       "      <td>2.149813</td>\n",
       "      <td>2.113282</td>\n",
       "      <td>1.730902</td>\n",
       "      <td>1.302251</td>\n",
       "      <td>1.112281</td>\n",
       "    </tr>\n",
       "    <tr>\n",
       "      <th>1</th>\n",
       "      <td>0.186780</td>\n",
       "      <td>0.846809</td>\n",
       "      <td>0.717726</td>\n",
       "      <td>0.518012</td>\n",
       "      <td>0.198958</td>\n",
       "      <td>-0.436714</td>\n",
       "      <td>-0.424536</td>\n",
       "      <td>-0.120095</td>\n",
       "      <td>0.155117</td>\n",
       "    </tr>\n",
       "    <tr>\n",
       "      <th>2</th>\n",
       "      <td>-0.188289</td>\n",
       "      <td>-0.178549</td>\n",
       "      <td>-0.792303</td>\n",
       "      <td>-0.582847</td>\n",
       "      <td>-0.670526</td>\n",
       "      <td>-0.229693</td>\n",
       "      <td>-0.190727</td>\n",
       "      <td>-0.310066</td>\n",
       "      <td>0.544803</td>\n",
       "    </tr>\n",
       "    <tr>\n",
       "      <th>3</th>\n",
       "      <td>0.077182</td>\n",
       "      <td>0.386495</td>\n",
       "      <td>0.065004</td>\n",
       "      <td>0.181908</td>\n",
       "      <td>-0.032416</td>\n",
       "      <td>-0.901900</td>\n",
       "      <td>-1.391440</td>\n",
       "      <td>-0.974967</td>\n",
       "      <td>-0.463505</td>\n",
       "    </tr>\n",
       "    <tr>\n",
       "      <th>4</th>\n",
       "      <td>-0.536572</td>\n",
       "      <td>-0.568231</td>\n",
       "      <td>-0.302759</td>\n",
       "      <td>-0.582847</td>\n",
       "      <td>-0.163936</td>\n",
       "      <td>0.030906</td>\n",
       "      <td>-0.224825</td>\n",
       "      <td>-0.690007</td>\n",
       "      <td>-0.940870</td>\n",
       "    </tr>\n",
       "    <tr>\n",
       "      <th>5</th>\n",
       "      <td>-1.052902</td>\n",
       "      <td>-0.736283</td>\n",
       "      <td>-0.200468</td>\n",
       "      <td>0.332913</td>\n",
       "      <td>0.230621</td>\n",
       "      <td>0.493659</td>\n",
       "      <td>-0.066513</td>\n",
       "      <td>0.461995</td>\n",
       "      <td>0.678757</td>\n",
       "    </tr>\n",
       "    <tr>\n",
       "      <th>6</th>\n",
       "      <td>-0.597460</td>\n",
       "      <td>-0.504909</td>\n",
       "      <td>-0.755767</td>\n",
       "      <td>-0.587715</td>\n",
       "      <td>-1.069952</td>\n",
       "      <td>-0.984707</td>\n",
       "      <td>-0.943304</td>\n",
       "      <td>-0.948176</td>\n",
       "      <td>-1.289148</td>\n",
       "    </tr>\n",
       "  </tbody>\n",
       "</table>\n",
       "</div>"
      ],
      "text/plain": [
       "          0         1         2         3         4         5         6  \\\n",
       "0  2.076750  2.183911  2.052394  1.918439  2.149813  2.113282  1.730902   \n",
       "1  0.186780  0.846809  0.717726  0.518012  0.198958 -0.436714 -0.424536   \n",
       "2 -0.188289 -0.178549 -0.792303 -0.582847 -0.670526 -0.229693 -0.190727   \n",
       "3  0.077182  0.386495  0.065004  0.181908 -0.032416 -0.901900 -1.391440   \n",
       "4 -0.536572 -0.568231 -0.302759 -0.582847 -0.163936  0.030906 -0.224825   \n",
       "5 -1.052902 -0.736283 -0.200468  0.332913  0.230621  0.493659 -0.066513   \n",
       "6 -0.597460 -0.504909 -0.755767 -0.587715 -1.069952 -0.984707 -0.943304   \n",
       "\n",
       "          7         8  \n",
       "0  1.302251  1.112281  \n",
       "1 -0.120095  0.155117  \n",
       "2 -0.310066  0.544803  \n",
       "3 -0.974967 -0.463505  \n",
       "4 -0.690007 -0.940870  \n",
       "5  0.461995  0.678757  \n",
       "6 -0.948176 -1.289148  "
      ]
     },
     "execution_count": 23,
     "metadata": {},
     "output_type": "execute_result"
    }
   ],
   "source": [
    "# The first 23 columns (from 0 to 22) are inputs\n",
    "\n",
    "train_inputs = train[:,:9]\n",
    "\n",
    "\n",
    "pd.DataFrame(train_inputs, columns=np.arange(0,9,1))"
   ]
  },
  {
   "cell_type": "markdown",
   "metadata": {},
   "source": [
    "## Add one more dimension to make it ready for RNNs"
   ]
  },
  {
   "cell_type": "markdown",
   "metadata": {},
   "source": [
    "See here for more details: https://keras.io/layers/recurrent/, and https://shiva-verma.medium.com/understanding-input-and-output-shape-in-lstm-keras-c501ee95c65e\n"
   ]
  },
  {
   "cell_type": "code",
   "execution_count": 24,
   "metadata": {},
   "outputs": [
    {
     "data": {
      "text/plain": [
       "array([[ 2.07675032,  2.18391053,  2.0523936 ,  1.91843895,  2.14981317,\n",
       "         2.11328175,  1.73090249,  1.30225116,  1.11228063],\n",
       "       [ 0.18678008,  0.84680904,  0.71772642,  0.51801159,  0.19895844,\n",
       "        -0.43671405, -0.42453569, -0.12009496,  0.15511703],\n",
       "       [-0.18828944, -0.1785488 , -0.79230252, -0.58284706, -0.67052623,\n",
       "        -0.22969289, -0.19072716, -0.31006573,  0.54480262],\n",
       "       [ 0.07718215,  0.3864949 ,  0.06500379,  0.18190781, -0.03241578,\n",
       "        -0.90190046, -1.39143969, -0.97496696, -0.46350508],\n",
       "       [-0.53657158, -0.56823074, -0.3027594 , -0.58284706, -0.16393637,\n",
       "         0.03090643, -0.22482452, -0.69000703, -0.9408696 ],\n",
       "       [-1.05290184, -0.73628275, -0.2004678 ,  0.33291309,  0.23062125,\n",
       "         0.49365853, -0.06651315,  0.46199547,  0.67875727],\n",
       "       [-0.59745973, -0.50490853, -0.75576745, -0.58771543, -1.06995223,\n",
       "        -0.98470736, -0.94330391, -0.94817593, -1.28914809]])"
      ]
     },
     "execution_count": 24,
     "metadata": {},
     "output_type": "execute_result"
    }
   ],
   "source": [
    "train_inputs"
   ]
  },
  {
   "cell_type": "code",
   "execution_count": 25,
   "metadata": {},
   "outputs": [
    {
     "data": {
      "text/plain": [
       "(7, 9)"
      ]
     },
     "execution_count": 25,
     "metadata": {},
     "output_type": "execute_result"
    }
   ],
   "source": [
    "train_inputs.shape "
   ]
  },
  {
   "cell_type": "code",
   "execution_count": 26,
   "metadata": {},
   "outputs": [
    {
     "data": {
      "text/plain": [
       "(7, 9, 1)"
      ]
     },
     "execution_count": 26,
     "metadata": {},
     "output_type": "execute_result"
    }
   ],
   "source": [
    "#Create an additional dimension for train\n",
    "\n",
    "train_x = train_inputs[:,:,np.newaxis]\n",
    "\n",
    "train_x.shape "
   ]
  },
  {
   "cell_type": "code",
   "execution_count": 27,
   "metadata": {},
   "outputs": [
    {
     "data": {
      "text/plain": [
       "array([[[ 2.07675032],\n",
       "        [ 2.18391053],\n",
       "        [ 2.0523936 ],\n",
       "        [ 1.91843895],\n",
       "        [ 2.14981317],\n",
       "        [ 2.11328175],\n",
       "        [ 1.73090249],\n",
       "        [ 1.30225116],\n",
       "        [ 1.11228063]],\n",
       "\n",
       "       [[ 0.18678008],\n",
       "        [ 0.84680904],\n",
       "        [ 0.71772642],\n",
       "        [ 0.51801159],\n",
       "        [ 0.19895844],\n",
       "        [-0.43671405],\n",
       "        [-0.42453569],\n",
       "        [-0.12009496],\n",
       "        [ 0.15511703]],\n",
       "\n",
       "       [[-0.18828944],\n",
       "        [-0.1785488 ],\n",
       "        [-0.79230252],\n",
       "        [-0.58284706],\n",
       "        [-0.67052623],\n",
       "        [-0.22969289],\n",
       "        [-0.19072716],\n",
       "        [-0.31006573],\n",
       "        [ 0.54480262]],\n",
       "\n",
       "       [[ 0.07718215],\n",
       "        [ 0.3864949 ],\n",
       "        [ 0.06500379],\n",
       "        [ 0.18190781],\n",
       "        [-0.03241578],\n",
       "        [-0.90190046],\n",
       "        [-1.39143969],\n",
       "        [-0.97496696],\n",
       "        [-0.46350508]],\n",
       "\n",
       "       [[-0.53657158],\n",
       "        [-0.56823074],\n",
       "        [-0.3027594 ],\n",
       "        [-0.58284706],\n",
       "        [-0.16393637],\n",
       "        [ 0.03090643],\n",
       "        [-0.22482452],\n",
       "        [-0.69000703],\n",
       "        [-0.9408696 ]],\n",
       "\n",
       "       [[-1.05290184],\n",
       "        [-0.73628275],\n",
       "        [-0.2004678 ],\n",
       "        [ 0.33291309],\n",
       "        [ 0.23062125],\n",
       "        [ 0.49365853],\n",
       "        [-0.06651315],\n",
       "        [ 0.46199547],\n",
       "        [ 0.67875727]],\n",
       "\n",
       "       [[-0.59745973],\n",
       "        [-0.50490853],\n",
       "        [-0.75576745],\n",
       "        [-0.58771543],\n",
       "        [-1.06995223],\n",
       "        [-0.98470736],\n",
       "        [-0.94330391],\n",
       "        [-0.94817593],\n",
       "        [-1.28914809]]])"
      ]
     },
     "execution_count": 27,
     "metadata": {},
     "output_type": "execute_result"
    }
   ],
   "source": [
    "train_x"
   ]
  },
  {
   "cell_type": "markdown",
   "metadata": {},
   "source": [
    "## Set the target"
   ]
  },
  {
   "cell_type": "code",
   "execution_count": 28,
   "metadata": {},
   "outputs": [
    {
     "data": {
      "text/html": [
       "<div>\n",
       "<style scoped>\n",
       "    .dataframe tbody tr th:only-of-type {\n",
       "        vertical-align: middle;\n",
       "    }\n",
       "\n",
       "    .dataframe tbody tr th {\n",
       "        vertical-align: top;\n",
       "    }\n",
       "\n",
       "    .dataframe thead th {\n",
       "        text-align: right;\n",
       "    }\n",
       "</style>\n",
       "<table border=\"1\" class=\"dataframe\">\n",
       "  <thead>\n",
       "    <tr style=\"text-align: right;\">\n",
       "      <th></th>\n",
       "      <th>9</th>\n",
       "    </tr>\n",
       "  </thead>\n",
       "  <tbody>\n",
       "    <tr>\n",
       "      <th>0</th>\n",
       "      <td>1.031908</td>\n",
       "    </tr>\n",
       "    <tr>\n",
       "      <th>1</th>\n",
       "      <td>-0.258922</td>\n",
       "    </tr>\n",
       "    <tr>\n",
       "      <th>2</th>\n",
       "      <td>0.099101</td>\n",
       "    </tr>\n",
       "    <tr>\n",
       "      <th>3</th>\n",
       "      <td>-0.370954</td>\n",
       "    </tr>\n",
       "    <tr>\n",
       "      <th>4</th>\n",
       "      <td>-0.867803</td>\n",
       "    </tr>\n",
       "    <tr>\n",
       "      <th>5</th>\n",
       "      <td>-0.073819</td>\n",
       "    </tr>\n",
       "    <tr>\n",
       "      <th>6</th>\n",
       "      <td>-1.569232</td>\n",
       "    </tr>\n",
       "  </tbody>\n",
       "</table>\n",
       "</div>"
      ],
      "text/plain": [
       "          9\n",
       "0  1.031908\n",
       "1 -0.258922\n",
       "2  0.099101\n",
       "3 -0.370954\n",
       "4 -0.867803\n",
       "5 -0.073819\n",
       "6 -1.569232"
      ]
     },
     "execution_count": 28,
     "metadata": {},
     "output_type": "execute_result"
    }
   ],
   "source": [
    "# The last column (9) is TARGET\n",
    "\n",
    "train_target = train[:,-1]\n",
    "\n",
    "\n",
    "pd.DataFrame(train_target, columns=['9'])"
   ]
  },
  {
   "cell_type": "markdown",
   "metadata": {},
   "source": [
    "## Repeat for TEST"
   ]
  },
  {
   "cell_type": "code",
   "execution_count": 29,
   "metadata": {},
   "outputs": [
    {
     "data": {
      "text/plain": [
       "(3, 10)"
      ]
     },
     "execution_count": 29,
     "metadata": {},
     "output_type": "execute_result"
    }
   ],
   "source": [
    "test.shape"
   ]
  },
  {
   "cell_type": "code",
   "execution_count": 30,
   "metadata": {},
   "outputs": [],
   "source": [
    "# The first 23 columns (from 0 to 22) are inputs\n",
    "\n",
    "test_inputs = test[:,:9]"
   ]
  },
  {
   "cell_type": "code",
   "execution_count": 31,
   "metadata": {},
   "outputs": [
    {
     "data": {
      "text/plain": [
       "(3, 9, 1)"
      ]
     },
     "execution_count": 31,
     "metadata": {},
     "output_type": "execute_result"
    }
   ],
   "source": [
    "#Create an additional dimension for test\n",
    "\n",
    "test_x = test_inputs[:,:,np.newaxis]\n",
    "\n",
    "test_x.shape "
   ]
  },
  {
   "cell_type": "code",
   "execution_count": 32,
   "metadata": {},
   "outputs": [
    {
     "data": {
      "text/html": [
       "<div>\n",
       "<style scoped>\n",
       "    .dataframe tbody tr th:only-of-type {\n",
       "        vertical-align: middle;\n",
       "    }\n",
       "\n",
       "    .dataframe tbody tr th {\n",
       "        vertical-align: top;\n",
       "    }\n",
       "\n",
       "    .dataframe thead th {\n",
       "        text-align: right;\n",
       "    }\n",
       "</style>\n",
       "<table border=\"1\" class=\"dataframe\">\n",
       "  <thead>\n",
       "    <tr style=\"text-align: right;\">\n",
       "      <th></th>\n",
       "      <th>9</th>\n",
       "    </tr>\n",
       "  </thead>\n",
       "  <tbody>\n",
       "    <tr>\n",
       "      <th>0</th>\n",
       "      <td>-1.223388</td>\n",
       "    </tr>\n",
       "    <tr>\n",
       "      <th>1</th>\n",
       "      <td>1.248669</td>\n",
       "    </tr>\n",
       "    <tr>\n",
       "      <th>2</th>\n",
       "      <td>1.565288</td>\n",
       "    </tr>\n",
       "  </tbody>\n",
       "</table>\n",
       "</div>"
      ],
      "text/plain": [
       "          9\n",
       "0 -1.223388\n",
       "1  1.248669\n",
       "2  1.565288"
      ]
     },
     "execution_count": 32,
     "metadata": {},
     "output_type": "execute_result"
    }
   ],
   "source": [
    "# The last column (23) is TARGET\n",
    "\n",
    "test_target = test[:,-1]\n",
    "\n",
    "\n",
    "pd.DataFrame(test_target, columns=['9'])"
   ]
  },
  {
   "cell_type": "code",
   "execution_count": 33,
   "metadata": {},
   "outputs": [],
   "source": [
    "performance = pd.DataFrame({\"model\":[], \"MSE\":[]})"
   ]
  },
  {
   "cell_type": "markdown",
   "metadata": {},
   "source": [
    "# A normal (cross-sectional) NN\n",
    "\n",
    "This model assumes that the data is NOT a time-series data set. It treats the data as cross-sectional and the columns being independent of each other."
   ]
  },
  {
   "cell_type": "code",
   "execution_count": 34,
   "metadata": {},
   "outputs": [
    {
     "name": "stdout",
     "output_type": "stream",
     "text": [
      "Epoch 1/100\n",
      "1/1 [==============================] - 0s 490ms/step - loss: 0.5223\n",
      "Epoch 2/100\n",
      "1/1 [==============================] - 0s 5ms/step - loss: 0.4979\n",
      "Epoch 3/100\n",
      "1/1 [==============================] - 0s 11ms/step - loss: 0.4748\n",
      "Epoch 4/100\n",
      "1/1 [==============================] - 0s 4ms/step - loss: 0.4529\n",
      "Epoch 5/100\n",
      "1/1 [==============================] - 0s 7ms/step - loss: 0.4326\n",
      "Epoch 6/100\n",
      "1/1 [==============================] - 0s 5ms/step - loss: 0.4137\n",
      "Epoch 7/100\n",
      "1/1 [==============================] - 0s 5ms/step - loss: 0.3964\n",
      "Epoch 8/100\n",
      "1/1 [==============================] - 0s 0s/step - loss: 0.3806\n",
      "Epoch 9/100\n",
      "1/1 [==============================] - 0s 14ms/step - loss: 0.3661\n",
      "Epoch 10/100\n",
      "1/1 [==============================] - 0s 0s/step - loss: 0.3525\n",
      "Epoch 11/100\n",
      "1/1 [==============================] - 0s 18ms/step - loss: 0.3399\n",
      "Epoch 12/100\n",
      "1/1 [==============================] - 0s 0s/step - loss: 0.3283\n",
      "Epoch 13/100\n",
      "1/1 [==============================] - 0s 16ms/step - loss: 0.3175\n",
      "Epoch 14/100\n",
      "1/1 [==============================] - 0s 0s/step - loss: 0.3075\n",
      "Epoch 15/100\n",
      "1/1 [==============================] - 0s 2ms/step - loss: 0.2982\n",
      "Epoch 16/100\n",
      "1/1 [==============================] - 0s 14ms/step - loss: 0.2894\n",
      "Epoch 17/100\n",
      "1/1 [==============================] - 0s 0s/step - loss: 0.2810\n",
      "Epoch 18/100\n",
      "1/1 [==============================] - 0s 17ms/step - loss: 0.2729\n",
      "Epoch 19/100\n",
      "1/1 [==============================] - 0s 0s/step - loss: 0.2648\n",
      "Epoch 20/100\n",
      "1/1 [==============================] - 0s 16ms/step - loss: 0.2569\n",
      "Epoch 21/100\n",
      "1/1 [==============================] - 0s 0s/step - loss: 0.2490\n",
      "Epoch 22/100\n",
      "1/1 [==============================] - 0s 17ms/step - loss: 0.2411\n",
      "Epoch 23/100\n",
      "1/1 [==============================] - 0s 0s/step - loss: 0.2333\n",
      "Epoch 24/100\n",
      "1/1 [==============================] - 0s 4ms/step - loss: 0.2256\n",
      "Epoch 25/100\n",
      "1/1 [==============================] - 0s 5ms/step - loss: 0.2180\n",
      "Epoch 26/100\n",
      "1/1 [==============================] - 0s 10ms/step - loss: 0.2105\n",
      "Epoch 27/100\n",
      "1/1 [==============================] - 0s 5ms/step - loss: 0.2032\n",
      "Epoch 28/100\n",
      "1/1 [==============================] - 0s 10ms/step - loss: 0.1961\n",
      "Epoch 29/100\n",
      "1/1 [==============================] - 0s 6ms/step - loss: 0.1895\n",
      "Epoch 30/100\n",
      "1/1 [==============================] - 0s 9ms/step - loss: 0.1832\n",
      "Epoch 31/100\n",
      "1/1 [==============================] - 0s 4ms/step - loss: 0.1771\n",
      "Epoch 32/100\n",
      "1/1 [==============================] - 0s 8ms/step - loss: 0.1712\n",
      "Epoch 33/100\n",
      "1/1 [==============================] - 0s 4ms/step - loss: 0.1655\n",
      "Epoch 34/100\n",
      "1/1 [==============================] - 0s 4ms/step - loss: 0.1599\n",
      "Epoch 35/100\n",
      "1/1 [==============================] - 0s 0s/step - loss: 0.1546\n",
      "Epoch 36/100\n",
      "1/1 [==============================] - 0s 18ms/step - loss: 0.1496\n",
      "Epoch 37/100\n",
      "1/1 [==============================] - 0s 0s/step - loss: 0.1447\n",
      "Epoch 38/100\n",
      "1/1 [==============================] - 0s 18ms/step - loss: 0.1400\n",
      "Epoch 39/100\n",
      "1/1 [==============================] - 0s 0s/step - loss: 0.1356\n",
      "Epoch 40/100\n",
      "1/1 [==============================] - 0s 15ms/step - loss: 0.1312\n",
      "Epoch 41/100\n",
      "1/1 [==============================] - 0s 716us/step - loss: 0.1271\n",
      "Epoch 42/100\n",
      "1/1 [==============================] - 0s 13ms/step - loss: 0.1231\n",
      "Epoch 43/100\n",
      "1/1 [==============================] - 0s 5ms/step - loss: 0.1192\n",
      "Epoch 44/100\n",
      "1/1 [==============================] - 0s 7ms/step - loss: 0.1154\n",
      "Epoch 45/100\n",
      "1/1 [==============================] - 0s 5ms/step - loss: 0.1119\n",
      "Epoch 46/100\n",
      "1/1 [==============================] - 0s 6ms/step - loss: 0.1086\n",
      "Epoch 47/100\n",
      "1/1 [==============================] - 0s 6ms/step - loss: 0.1054\n",
      "Epoch 48/100\n",
      "1/1 [==============================] - 0s 5ms/step - loss: 0.1023\n",
      "Epoch 49/100\n",
      "1/1 [==============================] - 0s 1ms/step - loss: 0.0993\n",
      "Epoch 50/100\n",
      "1/1 [==============================] - 0s 14ms/step - loss: 0.0964\n",
      "Epoch 51/100\n",
      "1/1 [==============================] - 0s 4ms/step - loss: 0.0936\n",
      "Epoch 52/100\n",
      "1/1 [==============================] - 0s 11ms/step - loss: 0.0909\n",
      "Epoch 53/100\n",
      "1/1 [==============================] - 0s 5ms/step - loss: 0.0882\n",
      "Epoch 54/100\n",
      "1/1 [==============================] - 0s 1ms/step - loss: 0.0857\n",
      "Epoch 55/100\n",
      "1/1 [==============================] - 0s 5ms/step - loss: 0.0832\n",
      "Epoch 56/100\n",
      "1/1 [==============================] - 0s 5ms/step - loss: 0.0809\n",
      "Epoch 57/100\n",
      "1/1 [==============================] - 0s 9ms/step - loss: 0.0787\n",
      "Epoch 58/100\n",
      "1/1 [==============================] - 0s 5ms/step - loss: 0.0765\n",
      "Epoch 59/100\n",
      "1/1 [==============================] - 0s 4ms/step - loss: 0.0745\n",
      "Epoch 60/100\n",
      "1/1 [==============================] - 0s 12ms/step - loss: 0.0725\n",
      "Epoch 61/100\n",
      "1/1 [==============================] - 0s 0s/step - loss: 0.0706\n",
      "Epoch 62/100\n",
      "1/1 [==============================] - 0s 16ms/step - loss: 0.0687\n",
      "Epoch 63/100\n",
      "1/1 [==============================] - 0s 0s/step - loss: 0.0670\n",
      "Epoch 64/100\n",
      "1/1 [==============================] - 0s 0s/step - loss: 0.0653\n",
      "Epoch 65/100\n",
      "1/1 [==============================] - 0s 17ms/step - loss: 0.0636\n",
      "Epoch 66/100\n",
      "1/1 [==============================] - 0s 0s/step - loss: 0.0620\n",
      "Epoch 67/100\n",
      "1/1 [==============================] - 0s 15ms/step - loss: 0.0605\n",
      "Epoch 68/100\n",
      "1/1 [==============================] - 0s 0s/step - loss: 0.0590\n",
      "Epoch 69/100\n",
      "1/1 [==============================] - 0s 0s/step - loss: 0.0575\n",
      "Epoch 70/100\n",
      "1/1 [==============================] - 0s 17ms/step - loss: 0.0560\n",
      "Epoch 71/100\n",
      "1/1 [==============================] - 0s 0s/step - loss: 0.0546\n",
      "Epoch 72/100\n",
      "1/1 [==============================] - 0s 0s/step - loss: 0.0532\n",
      "Epoch 73/100\n",
      "1/1 [==============================] - 0s 667us/step - loss: 0.0518\n",
      "Epoch 74/100\n",
      "1/1 [==============================] - 0s 0s/step - loss: 0.0504\n",
      "Epoch 75/100\n",
      "1/1 [==============================] - 0s 19ms/step - loss: 0.0491\n",
      "Epoch 76/100\n",
      "1/1 [==============================] - 0s 5ms/step - loss: 0.0478\n",
      "Epoch 77/100\n",
      "1/1 [==============================] - 0s 5ms/step - loss: 0.0466\n",
      "Epoch 78/100\n",
      "1/1 [==============================] - 0s 0s/step - loss: 0.0453\n",
      "Epoch 79/100\n",
      "1/1 [==============================] - 0s 0s/step - loss: 0.0441\n",
      "Epoch 80/100\n",
      "1/1 [==============================] - 0s 17ms/step - loss: 0.0430\n",
      "Epoch 81/100\n",
      "1/1 [==============================] - 0s 0s/step - loss: 0.0418\n",
      "Epoch 82/100\n",
      "1/1 [==============================] - 0s 0s/step - loss: 0.0407\n",
      "Epoch 83/100\n",
      "1/1 [==============================] - 0s 1ms/step - loss: 0.0396\n",
      "Epoch 84/100\n",
      "1/1 [==============================] - 0s 0s/step - loss: 0.0385\n",
      "Epoch 85/100\n",
      "1/1 [==============================] - 0s 17ms/step - loss: 0.0374\n",
      "Epoch 86/100\n",
      "1/1 [==============================] - 0s 0s/step - loss: 0.0364\n",
      "Epoch 87/100\n",
      "1/1 [==============================] - 0s 17ms/step - loss: 0.0353\n",
      "Epoch 88/100\n",
      "1/1 [==============================] - 0s 0s/step - loss: 0.0343\n",
      "Epoch 89/100\n",
      "1/1 [==============================] - 0s 17ms/step - loss: 0.0334\n",
      "Epoch 90/100\n",
      "1/1 [==============================] - 0s 0s/step - loss: 0.0324\n",
      "Epoch 91/100\n",
      "1/1 [==============================] - 0s 17ms/step - loss: 0.0315\n",
      "Epoch 92/100\n",
      "1/1 [==============================] - 0s 0s/step - loss: 0.0306\n",
      "Epoch 93/100\n",
      "1/1 [==============================] - 0s 15ms/step - loss: 0.0298\n",
      "Epoch 94/100\n",
      "1/1 [==============================] - 0s 0s/step - loss: 0.0289\n",
      "Epoch 95/100\n",
      "1/1 [==============================] - 0s 0s/step - loss: 0.0281\n",
      "Epoch 96/100\n",
      "1/1 [==============================] - 0s 18ms/step - loss: 0.0273\n",
      "Epoch 97/100\n",
      "1/1 [==============================] - 0s 5ms/step - loss: 0.0265\n",
      "Epoch 98/100\n",
      "1/1 [==============================] - 0s 0s/step - loss: 0.0257\n",
      "Epoch 99/100\n",
      "1/1 [==============================] - 0s 5ms/step - loss: 0.0250\n",
      "Epoch 100/100\n",
      "1/1 [==============================] - 0s 3ms/step - loss: 0.0242\n"
     ]
    }
   ],
   "source": [
    "model = keras.models.Sequential([\n",
    "    keras.layers.Flatten(input_shape=[9, 1]),\n",
    "    keras.layers.Dense(23, activation='relu'),\n",
    "    keras.layers.Dense(1, activation=None)\n",
    "    \n",
    "])\n",
    "\n",
    "model.compile(loss=\"mse\", optimizer='Adam')\n",
    "\n",
    "history = model.fit(train_x, train_target, epochs=100)"
   ]
  },
  {
   "cell_type": "markdown",
   "metadata": {},
   "source": [
    "### Predictions"
   ]
  },
  {
   "cell_type": "code",
   "execution_count": 35,
   "metadata": {},
   "outputs": [
    {
     "name": "stdout",
     "output_type": "stream",
     "text": [
      "1/1 [==============================] - 0s 67ms/step\n"
     ]
    }
   ],
   "source": [
    "#Predict:\n",
    "y_pred = model.predict(test_x)"
   ]
  },
  {
   "cell_type": "code",
   "execution_count": 36,
   "metadata": {},
   "outputs": [],
   "source": [
    "# Remember, these are standardized values. \n",
    "\n",
    "comparison = pd.DataFrame()\n",
    "\n",
    "comparison['actual'] = scaler.inverse_transform([test_target]).flatten()\n",
    "comparison['predicted'] = scaler.inverse_transform(y_pred).flatten()"
   ]
  },
  {
   "cell_type": "code",
   "execution_count": 37,
   "metadata": {},
   "outputs": [
    {
     "data": {
      "text/html": [
       "<div>\n",
       "<style scoped>\n",
       "    .dataframe tbody tr th:only-of-type {\n",
       "        vertical-align: middle;\n",
       "    }\n",
       "\n",
       "    .dataframe tbody tr th {\n",
       "        vertical-align: top;\n",
       "    }\n",
       "\n",
       "    .dataframe thead th {\n",
       "        text-align: right;\n",
       "    }\n",
       "</style>\n",
       "<table border=\"1\" class=\"dataframe\">\n",
       "  <thead>\n",
       "    <tr style=\"text-align: right;\">\n",
       "      <th></th>\n",
       "      <th>actual</th>\n",
       "      <th>predicted</th>\n",
       "    </tr>\n",
       "  </thead>\n",
       "  <tbody>\n",
       "    <tr>\n",
       "      <th>0</th>\n",
       "      <td>139.520004</td>\n",
       "      <td>138.660751</td>\n",
       "    </tr>\n",
       "    <tr>\n",
       "      <th>1</th>\n",
       "      <td>149.669998</td>\n",
       "      <td>144.295425</td>\n",
       "    </tr>\n",
       "    <tr>\n",
       "      <th>2</th>\n",
       "      <td>150.970001</td>\n",
       "      <td>145.927505</td>\n",
       "    </tr>\n",
       "  </tbody>\n",
       "</table>\n",
       "</div>"
      ],
      "text/plain": [
       "       actual   predicted\n",
       "0  139.520004  138.660751\n",
       "1  149.669998  144.295425\n",
       "2  150.970001  145.927505"
      ]
     },
     "execution_count": 37,
     "metadata": {},
     "output_type": "execute_result"
    }
   ],
   "source": [
    "comparison"
   ]
  },
  {
   "cell_type": "code",
   "execution_count": 38,
   "metadata": {},
   "outputs": [],
   "source": [
    "MSE_NNN = mean_squared_error(comparison['actual'], comparison['predicted'])"
   ]
  },
  {
   "cell_type": "code",
   "execution_count": 39,
   "metadata": {},
   "outputs": [
    {
     "data": {
      "text/html": [
       "<div>\n",
       "<style scoped>\n",
       "    .dataframe tbody tr th:only-of-type {\n",
       "        vertical-align: middle;\n",
       "    }\n",
       "\n",
       "    .dataframe tbody tr th {\n",
       "        vertical-align: top;\n",
       "    }\n",
       "\n",
       "    .dataframe thead th {\n",
       "        text-align: right;\n",
       "    }\n",
       "</style>\n",
       "<table border=\"1\" class=\"dataframe\">\n",
       "  <thead>\n",
       "    <tr style=\"text-align: right;\">\n",
       "      <th></th>\n",
       "      <th>model</th>\n",
       "      <th>MSE</th>\n",
       "    </tr>\n",
       "  </thead>\n",
       "  <tbody>\n",
       "    <tr>\n",
       "      <th>0</th>\n",
       "      <td>Normal NNN</td>\n",
       "      <td>18.350369</td>\n",
       "    </tr>\n",
       "  </tbody>\n",
       "</table>\n",
       "</div>"
      ],
      "text/plain": [
       "        model        MSE\n",
       "0  Normal NNN  18.350369"
      ]
     },
     "execution_count": 39,
     "metadata": {},
     "output_type": "execute_result"
    }
   ],
   "source": [
    "performance = pd.concat([performance,pd.DataFrame({'model': 'Normal NNN', 'MSE':MSE_NNN}, index=[0])])\n",
    "performance"
   ]
  },
  {
   "cell_type": "code",
   "execution_count": 40,
   "metadata": {},
   "outputs": [
    {
     "data": {
      "image/png": "[encoded data removed]",
      "text/plain": [
       "<Figure size 432x288 with 1 Axes>"
      ]
     },
     "metadata": {
      "needs_background": "light"
     },
     "output_type": "display_data"
    }
   ],
   "source": [
    "plt.plot(comparison['actual'], label = 'actual')\n",
    "plt.plot(comparison['predicted'], label = 'predicted')\n",
    "\n",
    "plt.legend()\n",
    "\n",
    "plt.show()"
   ]
  },
  {
   "cell_type": "markdown",
   "metadata": {},
   "source": [
    "# Simple RNN\n",
    "\n",
    "Simplest recurrent neural network"
   ]
  },
  {
   "cell_type": "code",
   "execution_count": 41,
   "metadata": {},
   "outputs": [],
   "source": [
    "model = keras.models.Sequential([\n",
    "    keras.layers.SimpleRNN(32, activation='relu', input_shape=[9, 1]),\n",
    "    keras.layers.Dense(1, activation=None)\n",
    "])"
   ]
  },
  {
   "cell_type": "code",
   "execution_count": 42,
   "metadata": {
    "scrolled": true
   },
   "outputs": [
    {
     "name": "stdout",
     "output_type": "stream",
     "text": [
      "Epoch 1/30\n",
      "1/1 [==============================] - 1s 861ms/step - loss: 1.4553\n",
      "Epoch 2/30\n",
      "1/1 [==============================] - 0s 7ms/step - loss: 1.3878\n",
      "Epoch 3/30\n",
      "1/1 [==============================] - 0s 0s/step - loss: 1.3223\n",
      "Epoch 4/30\n",
      "1/1 [==============================] - 0s 16ms/step - loss: 1.2568\n",
      "Epoch 5/30\n",
      "1/1 [==============================] - 0s 0s/step - loss: 1.1908\n",
      "Epoch 6/30\n",
      "1/1 [==============================] - 0s 17ms/step - loss: 1.1266\n",
      "Epoch 7/30\n",
      "1/1 [==============================] - 0s 0s/step - loss: 1.0649\n",
      "Epoch 8/30\n",
      "1/1 [==============================] - 0s 1ms/step - loss: 1.0059\n",
      "Epoch 9/30\n",
      "1/1 [==============================] - 0s 16ms/step - loss: 0.9509\n",
      "Epoch 10/30\n",
      "1/1 [==============================] - 0s 0s/step - loss: 0.8989\n",
      "Epoch 11/30\n",
      "1/1 [==============================] - 0s 19ms/step - loss: 0.8484\n",
      "Epoch 12/30\n",
      "1/1 [==============================] - 0s 13ms/step - loss: 0.8035\n",
      "Epoch 13/30\n",
      "1/1 [==============================] - 0s 0s/step - loss: 0.7601\n",
      "Epoch 14/30\n",
      "1/1 [==============================] - 0s 17ms/step - loss: 0.7234\n",
      "Epoch 15/30\n",
      "1/1 [==============================] - 0s 0s/step - loss: 0.6879\n",
      "Epoch 16/30\n",
      "1/1 [==============================] - 0s 0s/step - loss: 0.6529\n",
      "Epoch 17/30\n",
      "1/1 [==============================] - 0s 16ms/step - loss: 0.6180\n",
      "Epoch 18/30\n",
      "1/1 [==============================] - 0s 0s/step - loss: 0.5838\n",
      "Epoch 19/30\n",
      "1/1 [==============================] - 0s 0s/step - loss: 0.5501\n",
      "Epoch 20/30\n",
      "1/1 [==============================] - 0s 734us/step - loss: 0.5165\n",
      "Epoch 21/30\n",
      "1/1 [==============================] - 0s 0s/step - loss: 0.4829\n",
      "Epoch 22/30\n",
      "1/1 [==============================] - 0s 17ms/step - loss: 0.4503\n",
      "Epoch 23/30\n",
      "1/1 [==============================] - 0s 0s/step - loss: 0.4188\n",
      "Epoch 24/30\n",
      "1/1 [==============================] - 0s 17ms/step - loss: 0.3881\n",
      "Epoch 25/30\n",
      "1/1 [==============================] - 0s 0s/step - loss: 0.3598\n",
      "Epoch 26/30\n",
      "1/1 [==============================] - 0s 17ms/step - loss: 0.3346\n",
      "Epoch 27/30\n",
      "1/1 [==============================] - 0s 0s/step - loss: 0.3110\n",
      "Epoch 28/30\n",
      "1/1 [==============================] - 0s 0s/step - loss: 0.2895\n",
      "Epoch 29/30\n",
      "1/1 [==============================] - 0s 0s/step - loss: 0.2693\n",
      "Epoch 30/30\n",
      "1/1 [==============================] - 0s 0s/step - loss: 0.2492\n"
     ]
    }
   ],
   "source": [
    "np.random.seed(42)\n",
    "tf.random.set_seed(42)\n",
    "\n",
    "model.compile(loss=\"mse\", optimizer='Adam')\n",
    "\n",
    "history = model.fit(train_x, train_target, epochs=30)"
   ]
  },
  {
   "cell_type": "markdown",
   "metadata": {},
   "source": [
    "### Predictions"
   ]
  },
  {
   "cell_type": "code",
   "execution_count": 43,
   "metadata": {},
   "outputs": [
    {
     "name": "stdout",
     "output_type": "stream",
     "text": [
      "1/1 [==============================] - 0s 117ms/step\n"
     ]
    }
   ],
   "source": [
    "#Predict:\n",
    "y_pred = model.predict(test_x)"
   ]
  },
  {
   "cell_type": "code",
   "execution_count": 44,
   "metadata": {},
   "outputs": [],
   "source": [
    "#Remember, these are standardized values. \n",
    "\n",
    "comparison = pd.DataFrame()\n",
    "\n",
    "comparison['actual'] = scaler.inverse_transform([test_target]).flatten()\n",
    "comparison['predicted'] = scaler.inverse_transform(y_pred).flatten()"
   ]
  },
  {
   "cell_type": "code",
   "execution_count": 45,
   "metadata": {},
   "outputs": [
    {
     "data": {
      "text/html": [
       "<div>\n",
       "<style scoped>\n",
       "    .dataframe tbody tr th:only-of-type {\n",
       "        vertical-align: middle;\n",
       "    }\n",
       "\n",
       "    .dataframe tbody tr th {\n",
       "        vertical-align: top;\n",
       "    }\n",
       "\n",
       "    .dataframe thead th {\n",
       "        text-align: right;\n",
       "    }\n",
       "</style>\n",
       "<table border=\"1\" class=\"dataframe\">\n",
       "  <thead>\n",
       "    <tr style=\"text-align: right;\">\n",
       "      <th></th>\n",
       "      <th>actual</th>\n",
       "      <th>predicted</th>\n",
       "    </tr>\n",
       "  </thead>\n",
       "  <tbody>\n",
       "    <tr>\n",
       "      <th>0</th>\n",
       "      <td>139.520004</td>\n",
       "      <td>141.267807</td>\n",
       "    </tr>\n",
       "    <tr>\n",
       "      <th>1</th>\n",
       "      <td>149.669998</td>\n",
       "      <td>146.128189</td>\n",
       "    </tr>\n",
       "    <tr>\n",
       "      <th>2</th>\n",
       "      <td>150.970001</td>\n",
       "      <td>147.542068</td>\n",
       "    </tr>\n",
       "  </tbody>\n",
       "</table>\n",
       "</div>"
      ],
      "text/plain": [
       "       actual   predicted\n",
       "0  139.520004  141.267807\n",
       "1  149.669998  146.128189\n",
       "2  150.970001  147.542068"
      ]
     },
     "execution_count": 45,
     "metadata": {},
     "output_type": "execute_result"
    }
   ],
   "source": [
    "comparison"
   ]
  },
  {
   "cell_type": "code",
   "execution_count": 46,
   "metadata": {},
   "outputs": [],
   "source": [
    "MSE_RNN = mean_squared_error(comparison['actual'], comparison['predicted'])"
   ]
  },
  {
   "cell_type": "code",
   "execution_count": 47,
   "metadata": {},
   "outputs": [
    {
     "data": {
      "text/html": [
       "<div>\n",
       "<style scoped>\n",
       "    .dataframe tbody tr th:only-of-type {\n",
       "        vertical-align: middle;\n",
       "    }\n",
       "\n",
       "    .dataframe tbody tr th {\n",
       "        vertical-align: top;\n",
       "    }\n",
       "\n",
       "    .dataframe thead th {\n",
       "        text-align: right;\n",
       "    }\n",
       "</style>\n",
       "<table border=\"1\" class=\"dataframe\">\n",
       "  <thead>\n",
       "    <tr style=\"text-align: right;\">\n",
       "      <th></th>\n",
       "      <th>model</th>\n",
       "      <th>MSE</th>\n",
       "    </tr>\n",
       "  </thead>\n",
       "  <tbody>\n",
       "    <tr>\n",
       "      <th>0</th>\n",
       "      <td>Normal NNN</td>\n",
       "      <td>18.350369</td>\n",
       "    </tr>\n",
       "    <tr>\n",
       "      <th>0</th>\n",
       "      <td>simple RNN</td>\n",
       "      <td>9.116649</td>\n",
       "    </tr>\n",
       "  </tbody>\n",
       "</table>\n",
       "</div>"
      ],
      "text/plain": [
       "        model        MSE\n",
       "0  Normal NNN  18.350369\n",
       "0  simple RNN   9.116649"
      ]
     },
     "execution_count": 47,
     "metadata": {},
     "output_type": "execute_result"
    }
   ],
   "source": [
    "performance = pd.concat([performance,pd.DataFrame({'model': 'simple RNN', 'MSE':MSE_RNN}, index=[0])])\n",
    "performance"
   ]
  },
  {
   "cell_type": "code",
   "execution_count": 48,
   "metadata": {},
   "outputs": [
    {
     "data": {
      "image/png": "[encoded data removed]",
      "text/plain": [
       "<Figure size 432x288 with 1 Axes>"
      ]
     },
     "metadata": {
      "needs_background": "light"
     },
     "output_type": "display_data"
    }
   ],
   "source": [
    "plt.plot(comparison['actual'], label = 'actual')\n",
    "plt.plot(comparison['predicted'], label = 'predicted')\n",
    "\n",
    "plt.legend()\n",
    "\n",
    "plt.show()"
   ]
  },
  {
   "cell_type": "markdown",
   "metadata": {},
   "source": [
    "## Simple RNN with more layers\n",
    "\n",
    "**Be careful: when stacking RNN layers, you have to set \"return_sequences\" to True. This enables the layer to send a \"sequence\" of values to the next layer -- jut like how it uses a sequence of values for training. However, if the output of RNN is sent to a DENSE layer, then a single value should be sent. That's why there is no \"return sequences\" right before DENSE layers.**"
   ]
  },
  {
   "cell_type": "code",
   "execution_count": 49,
   "metadata": {},
   "outputs": [],
   "source": [
    "model = keras.models.Sequential([\n",
    "    keras.layers.SimpleRNN(32, activation='relu', return_sequences=True, input_shape=[9, 1]),\n",
    "    keras.layers.SimpleRNN(32, activation='relu', return_sequences=False),\n",
    "    keras.layers.Dense(1, activation=None)\n",
    "])"
   ]
  },
  {
   "cell_type": "code",
   "execution_count": 50,
   "metadata": {
    "scrolled": true
   },
   "outputs": [
    {
     "name": "stdout",
     "output_type": "stream",
     "text": [
      "Epoch 1/30\n",
      "1/1 [==============================] - 1s 1s/step - loss: 0.7695\n",
      "Epoch 2/30\n",
      "1/1 [==============================] - 0s 5ms/step - loss: 0.7230\n",
      "Epoch 3/30\n",
      "1/1 [==============================] - 0s 9ms/step - loss: 0.6845\n",
      "Epoch 4/30\n",
      "1/1 [==============================] - 0s 11ms/step - loss: 0.6528\n",
      "Epoch 5/30\n",
      "1/1 [==============================] - 0s 8ms/step - loss: 0.6265\n",
      "Epoch 6/30\n",
      "1/1 [==============================] - 0s 9ms/step - loss: 0.6031\n",
      "Epoch 7/30\n",
      "1/1 [==============================] - 0s 7ms/step - loss: 0.5821\n",
      "Epoch 8/30\n",
      "1/1 [==============================] - 0s 0s/step - loss: 0.5622\n",
      "Epoch 9/30\n",
      "1/1 [==============================] - 0s 20ms/step - loss: 0.5438\n",
      "Epoch 10/30\n",
      "1/1 [==============================] - 0s 13ms/step - loss: 0.5263\n",
      "Epoch 11/30\n",
      "1/1 [==============================] - 0s 0s/step - loss: 0.5085\n",
      "Epoch 12/30\n",
      "1/1 [==============================] - 0s 19ms/step - loss: 0.4915\n",
      "Epoch 13/30\n",
      "1/1 [==============================] - 0s 15ms/step - loss: 0.4749\n",
      "Epoch 14/30\n",
      "1/1 [==============================] - 0s 0s/step - loss: 0.4592\n",
      "Epoch 15/30\n",
      "1/1 [==============================] - 0s 3ms/step - loss: 0.4437\n",
      "Epoch 16/30\n",
      "1/1 [==============================] - 0s 14ms/step - loss: 0.4284\n",
      "Epoch 17/30\n",
      "1/1 [==============================] - 0s 0s/step - loss: 0.4116\n",
      "Epoch 18/30\n",
      "1/1 [==============================] - 0s 679us/step - loss: 0.3952\n",
      "Epoch 19/30\n",
      "1/1 [==============================] - 0s 15ms/step - loss: 0.3787\n",
      "Epoch 20/30\n",
      "1/1 [==============================] - 0s 0s/step - loss: 0.3630\n",
      "Epoch 21/30\n",
      "1/1 [==============================] - 0s 17ms/step - loss: 0.3477\n",
      "Epoch 22/30\n",
      "1/1 [==============================] - 0s 0s/step - loss: 0.3329\n",
      "Epoch 23/30\n",
      "1/1 [==============================] - 0s 17ms/step - loss: 0.3187\n",
      "Epoch 24/30\n",
      "1/1 [==============================] - 0s 0s/step - loss: 0.3043\n",
      "Epoch 25/30\n",
      "1/1 [==============================] - 0s 16ms/step - loss: 0.2903\n",
      "Epoch 26/30\n",
      "1/1 [==============================] - 0s 0s/step - loss: 0.2763\n",
      "Epoch 27/30\n",
      "1/1 [==============================] - 0s 17ms/step - loss: 0.2622\n",
      "Epoch 28/30\n",
      "1/1 [==============================] - 0s 0s/step - loss: 0.2492\n",
      "Epoch 29/30\n",
      "1/1 [==============================] - 0s 17ms/step - loss: 0.2364\n",
      "Epoch 30/30\n",
      "1/1 [==============================] - 0s 0s/step - loss: 0.2250\n"
     ]
    }
   ],
   "source": [
    "np.random.seed(42)\n",
    "tf.random.set_seed(42)\n",
    "\n",
    "model.compile(loss=\"mse\", optimizer='Adam')\n",
    "\n",
    "history = model.fit(train_x, train_target, epochs=30)"
   ]
  },
  {
   "cell_type": "markdown",
   "metadata": {},
   "source": [
    "### Predictions"
   ]
  },
  {
   "cell_type": "code",
   "execution_count": 51,
   "metadata": {},
   "outputs": [
    {
     "name": "stdout",
     "output_type": "stream",
     "text": [
      "1/1 [==============================] - 0s 217ms/step\n"
     ]
    }
   ],
   "source": [
    "#Predict:\n",
    "y_pred = model.predict(test_x)\n"
   ]
  },
  {
   "cell_type": "code",
   "execution_count": 52,
   "metadata": {},
   "outputs": [],
   "source": [
    "#Remember, these are standardized values. \n",
    "\n",
    "comparison = pd.DataFrame()\n",
    "\n",
    "comparison['actual'] = scaler.inverse_transform([test_target]).flatten()\n",
    "comparison['predicted'] = scaler.inverse_transform(y_pred).flatten()"
   ]
  },
  {
   "cell_type": "code",
   "execution_count": 53,
   "metadata": {},
   "outputs": [
    {
     "data": {
      "text/html": [
       "<div>\n",
       "<style scoped>\n",
       "    .dataframe tbody tr th:only-of-type {\n",
       "        vertical-align: middle;\n",
       "    }\n",
       "\n",
       "    .dataframe tbody tr th {\n",
       "        vertical-align: top;\n",
       "    }\n",
       "\n",
       "    .dataframe thead th {\n",
       "        text-align: right;\n",
       "    }\n",
       "</style>\n",
       "<table border=\"1\" class=\"dataframe\">\n",
       "  <thead>\n",
       "    <tr style=\"text-align: right;\">\n",
       "      <th></th>\n",
       "      <th>actual</th>\n",
       "      <th>predicted</th>\n",
       "    </tr>\n",
       "  </thead>\n",
       "  <tbody>\n",
       "    <tr>\n",
       "      <th>0</th>\n",
       "      <td>139.520004</td>\n",
       "      <td>142.509323</td>\n",
       "    </tr>\n",
       "    <tr>\n",
       "      <th>1</th>\n",
       "      <td>149.669998</td>\n",
       "      <td>144.471359</td>\n",
       "    </tr>\n",
       "    <tr>\n",
       "      <th>2</th>\n",
       "      <td>150.970001</td>\n",
       "      <td>147.151077</td>\n",
       "    </tr>\n",
       "  </tbody>\n",
       "</table>\n",
       "</div>"
      ],
      "text/plain": [
       "       actual   predicted\n",
       "0  139.520004  142.509323\n",
       "1  149.669998  144.471359\n",
       "2  150.970001  147.151077"
      ]
     },
     "execution_count": 53,
     "metadata": {},
     "output_type": "execute_result"
    }
   ],
   "source": [
    "comparison"
   ]
  },
  {
   "cell_type": "code",
   "execution_count": 54,
   "metadata": {},
   "outputs": [],
   "source": [
    "MSE_RNN = mean_squared_error(comparison['actual'], comparison['predicted'])"
   ]
  },
  {
   "cell_type": "code",
   "execution_count": 55,
   "metadata": {},
   "outputs": [
    {
     "data": {
      "text/html": [
       "<div>\n",
       "<style scoped>\n",
       "    .dataframe tbody tr th:only-of-type {\n",
       "        vertical-align: middle;\n",
       "    }\n",
       "\n",
       "    .dataframe tbody tr th {\n",
       "        vertical-align: top;\n",
       "    }\n",
       "\n",
       "    .dataframe thead th {\n",
       "        text-align: right;\n",
       "    }\n",
       "</style>\n",
       "<table border=\"1\" class=\"dataframe\">\n",
       "  <thead>\n",
       "    <tr style=\"text-align: right;\">\n",
       "      <th></th>\n",
       "      <th>model</th>\n",
       "      <th>MSE</th>\n",
       "    </tr>\n",
       "  </thead>\n",
       "  <tbody>\n",
       "    <tr>\n",
       "      <th>0</th>\n",
       "      <td>Normal NNN</td>\n",
       "      <td>18.350369</td>\n",
       "    </tr>\n",
       "    <tr>\n",
       "      <th>0</th>\n",
       "      <td>simple RNN</td>\n",
       "      <td>9.116649</td>\n",
       "    </tr>\n",
       "    <tr>\n",
       "      <th>0</th>\n",
       "      <td>Simple RNN with more layers</td>\n",
       "      <td>16.848684</td>\n",
       "    </tr>\n",
       "  </tbody>\n",
       "</table>\n",
       "</div>"
      ],
      "text/plain": [
       "                         model        MSE\n",
       "0                   Normal NNN  18.350369\n",
       "0                   simple RNN   9.116649\n",
       "0  Simple RNN with more layers  16.848684"
      ]
     },
     "execution_count": 55,
     "metadata": {},
     "output_type": "execute_result"
    }
   ],
   "source": [
    "performance = pd.concat([performance,pd.DataFrame({'model': 'Simple RNN with more layers', 'MSE':MSE_RNN}, index=[0])])\n",
    "performance"
   ]
  },
  {
   "cell_type": "code",
   "execution_count": 56,
   "metadata": {},
   "outputs": [
    {
     "data": {
      "image/png": "[encoded data removed]",
      "text/plain": [
       "<Figure size 432x288 with 1 Axes>"
      ]
     },
     "metadata": {
      "needs_background": "light"
     },
     "output_type": "display_data"
    }
   ],
   "source": [
    "plt.plot(comparison['actual'], label = 'actual')\n",
    "plt.plot(comparison['predicted'], label = 'predicted')\n",
    "\n",
    "plt.legend()\n",
    "\n",
    "plt.show()"
   ]
  },
  {
   "cell_type": "markdown",
   "metadata": {},
   "source": [
    "# LSTM with one layer"
   ]
  },
  {
   "cell_type": "code",
   "execution_count": 57,
   "metadata": {
    "scrolled": true
   },
   "outputs": [],
   "source": [
    "model = keras.models.Sequential([\n",
    "    keras.layers.LSTM(32, activation='relu', input_shape=[9, 1]),\n",
    "    keras.layers.Dense(1, activation=None)\n",
    "])"
   ]
  },
  {
   "cell_type": "code",
   "execution_count": 58,
   "metadata": {
    "scrolled": true
   },
   "outputs": [
    {
     "name": "stdout",
     "output_type": "stream",
     "text": [
      "Epoch 1/30\n",
      "1/1 [==============================] - 1s 1s/step - loss: 0.7234\n",
      "Epoch 2/30\n",
      "1/1 [==============================] - 0s 4ms/step - loss: 0.7083\n",
      "Epoch 3/30\n",
      "1/1 [==============================] - 0s 15ms/step - loss: 0.6935\n",
      "Epoch 4/30\n",
      "1/1 [==============================] - 0s 0s/step - loss: 0.6789\n",
      "Epoch 5/30\n",
      "1/1 [==============================] - 0s 784us/step - loss: 0.6646\n",
      "Epoch 6/30\n",
      "1/1 [==============================] - 0s 17ms/step - loss: 0.6505\n",
      "Epoch 7/30\n",
      "1/1 [==============================] - 0s 0s/step - loss: 0.6368\n",
      "Epoch 8/30\n",
      "1/1 [==============================] - 0s 2ms/step - loss: 0.6232\n",
      "Epoch 9/30\n",
      "1/1 [==============================] - 0s 16ms/step - loss: 0.6098\n",
      "Epoch 10/30\n",
      "1/1 [==============================] - 0s 15ms/step - loss: 0.5965\n",
      "Epoch 11/30\n",
      "1/1 [==============================] - 0s 0s/step - loss: 0.5833\n",
      "Epoch 12/30\n",
      "1/1 [==============================] - 0s 16ms/step - loss: 0.5704\n",
      "Epoch 13/30\n",
      "1/1 [==============================] - 0s 17ms/step - loss: 0.5576\n",
      "Epoch 14/30\n",
      "1/1 [==============================] - 0s 0s/step - loss: 0.5450\n",
      "Epoch 15/30\n",
      "1/1 [==============================] - 0s 14ms/step - loss: 0.5326\n",
      "Epoch 16/30\n",
      "1/1 [==============================] - 0s 0s/step - loss: 0.5204\n",
      "Epoch 17/30\n",
      "1/1 [==============================] - 0s 0s/step - loss: 0.5083\n",
      "Epoch 18/30\n",
      "1/1 [==============================] - 0s 17ms/step - loss: 0.4966\n",
      "Epoch 19/30\n",
      "1/1 [==============================] - 0s 0s/step - loss: 0.4853\n",
      "Epoch 20/30\n",
      "1/1 [==============================] - 0s 17ms/step - loss: 0.4743\n",
      "Epoch 21/30\n",
      "1/1 [==============================] - 0s 0s/step - loss: 0.4637\n",
      "Epoch 22/30\n",
      "1/1 [==============================] - 0s 17ms/step - loss: 0.4534\n",
      "Epoch 23/30\n",
      "1/1 [==============================] - 0s 0s/step - loss: 0.4432\n",
      "Epoch 24/30\n",
      "1/1 [==============================] - 0s 17ms/step - loss: 0.4332\n",
      "Epoch 25/30\n",
      "1/1 [==============================] - 0s 0s/step - loss: 0.4235\n",
      "Epoch 26/30\n",
      "1/1 [==============================] - 0s 17ms/step - loss: 0.4140\n",
      "Epoch 27/30\n",
      "1/1 [==============================] - 0s 0s/step - loss: 0.4048\n",
      "Epoch 28/30\n",
      "1/1 [==============================] - 0s 17ms/step - loss: 0.3959\n",
      "Epoch 29/30\n",
      "1/1 [==============================] - 0s 0s/step - loss: 0.3872\n",
      "Epoch 30/30\n",
      "1/1 [==============================] - 0s 17ms/step - loss: 0.3790\n"
     ]
    }
   ],
   "source": [
    "np.random.seed(42)\n",
    "tf.random.set_seed(42)\n",
    "\n",
    "model.compile(loss=\"mse\", optimizer='Adam')\n",
    "\n",
    "history = model.fit(train_x, train_target, epochs=30)"
   ]
  },
  {
   "cell_type": "markdown",
   "metadata": {},
   "source": [
    "### Predictions"
   ]
  },
  {
   "cell_type": "code",
   "execution_count": 59,
   "metadata": {},
   "outputs": [
    {
     "name": "stdout",
     "output_type": "stream",
     "text": [
      "1/1 [==============================] - 0s 145ms/step\n"
     ]
    }
   ],
   "source": [
    "#Predict:\n",
    "y_pred = model.predict(test_x)\n"
   ]
  },
  {
   "cell_type": "code",
   "execution_count": 60,
   "metadata": {},
   "outputs": [],
   "source": [
    "#Remember, these are standardized values. \n",
    "\n",
    "comparison = pd.DataFrame()\n",
    "\n",
    "comparison['actual'] = scaler.inverse_transform([test_target]).flatten()\n",
    "comparison['predicted'] = scaler.inverse_transform(y_pred).flatten()"
   ]
  },
  {
   "cell_type": "code",
   "execution_count": 61,
   "metadata": {},
   "outputs": [
    {
     "data": {
      "text/html": [
       "<div>\n",
       "<style scoped>\n",
       "    .dataframe tbody tr th:only-of-type {\n",
       "        vertical-align: middle;\n",
       "    }\n",
       "\n",
       "    .dataframe tbody tr th {\n",
       "        vertical-align: top;\n",
       "    }\n",
       "\n",
       "    .dataframe thead th {\n",
       "        text-align: right;\n",
       "    }\n",
       "</style>\n",
       "<table border=\"1\" class=\"dataframe\">\n",
       "  <thead>\n",
       "    <tr style=\"text-align: right;\">\n",
       "      <th></th>\n",
       "      <th>actual</th>\n",
       "      <th>predicted</th>\n",
       "    </tr>\n",
       "  </thead>\n",
       "  <tbody>\n",
       "    <tr>\n",
       "      <th>0</th>\n",
       "      <td>139.520004</td>\n",
       "      <td>143.520096</td>\n",
       "    </tr>\n",
       "    <tr>\n",
       "      <th>1</th>\n",
       "      <td>149.669998</td>\n",
       "      <td>144.905609</td>\n",
       "    </tr>\n",
       "    <tr>\n",
       "      <th>2</th>\n",
       "      <td>150.970001</td>\n",
       "      <td>146.702133</td>\n",
       "    </tr>\n",
       "  </tbody>\n",
       "</table>\n",
       "</div>"
      ],
      "text/plain": [
       "       actual   predicted\n",
       "0  139.520004  143.520096\n",
       "1  149.669998  144.905609\n",
       "2  150.970001  146.702133"
      ]
     },
     "execution_count": 61,
     "metadata": {},
     "output_type": "execute_result"
    }
   ],
   "source": [
    "comparison"
   ]
  },
  {
   "cell_type": "code",
   "execution_count": 62,
   "metadata": {},
   "outputs": [],
   "source": [
    "MSE_RNN = mean_squared_error(comparison['actual'], comparison['predicted'])"
   ]
  },
  {
   "cell_type": "code",
   "execution_count": 63,
   "metadata": {},
   "outputs": [
    {
     "data": {
      "text/html": [
       "<div>\n",
       "<style scoped>\n",
       "    .dataframe tbody tr th:only-of-type {\n",
       "        vertical-align: middle;\n",
       "    }\n",
       "\n",
       "    .dataframe tbody tr th {\n",
       "        vertical-align: top;\n",
       "    }\n",
       "\n",
       "    .dataframe thead th {\n",
       "        text-align: right;\n",
       "    }\n",
       "</style>\n",
       "<table border=\"1\" class=\"dataframe\">\n",
       "  <thead>\n",
       "    <tr style=\"text-align: right;\">\n",
       "      <th></th>\n",
       "      <th>model</th>\n",
       "      <th>MSE</th>\n",
       "    </tr>\n",
       "  </thead>\n",
       "  <tbody>\n",
       "    <tr>\n",
       "      <th>0</th>\n",
       "      <td>Normal NNN</td>\n",
       "      <td>18.350369</td>\n",
       "    </tr>\n",
       "    <tr>\n",
       "      <th>0</th>\n",
       "      <td>simple RNN</td>\n",
       "      <td>9.116649</td>\n",
       "    </tr>\n",
       "    <tr>\n",
       "      <th>0</th>\n",
       "      <td>Simple RNN with more layers</td>\n",
       "      <td>16.848684</td>\n",
       "    </tr>\n",
       "    <tr>\n",
       "      <th>0</th>\n",
       "      <td>LSTM with one layer</td>\n",
       "      <td>18.971611</td>\n",
       "    </tr>\n",
       "  </tbody>\n",
       "</table>\n",
       "</div>"
      ],
      "text/plain": [
       "                         model        MSE\n",
       "0                   Normal NNN  18.350369\n",
       "0                   simple RNN   9.116649\n",
       "0  Simple RNN with more layers  16.848684\n",
       "0          LSTM with one layer  18.971611"
      ]
     },
     "execution_count": 63,
     "metadata": {},
     "output_type": "execute_result"
    }
   ],
   "source": [
    "performance = pd.concat([performance,pd.DataFrame({'model': 'LSTM with one layer', 'MSE':MSE_RNN}, index=[0])])\n",
    "performance"
   ]
  },
  {
   "cell_type": "code",
   "execution_count": 64,
   "metadata": {},
   "outputs": [
    {
     "data": {
      "image/png": "[encoded data removed]",
      "text/plain": [
       "<Figure size 432x288 with 1 Axes>"
      ]
     },
     "metadata": {
      "needs_background": "light"
     },
     "output_type": "display_data"
    }
   ],
   "source": [
    "plt.plot(comparison['actual'], label = 'actual')\n",
    "plt.plot(comparison['predicted'], label = 'predicted')\n",
    "\n",
    "plt.legend()\n",
    "\n",
    "plt.show()"
   ]
  },
  {
   "cell_type": "markdown",
   "metadata": {},
   "source": [
    "# LSTM with more layers"
   ]
  },
  {
   "cell_type": "code",
   "execution_count": 65,
   "metadata": {
    "scrolled": true
   },
   "outputs": [],
   "source": [
    "model = keras.models.Sequential([\n",
    "    keras.layers.LSTM(32, activation='tanh', return_sequences=True, input_shape=[9, 1]),\n",
    "    keras.layers.LSTM(32, activation='tanh', return_sequences=False),\n",
    "    keras.layers.Dense(1, activation=None)\n",
    "])"
   ]
  },
  {
   "cell_type": "code",
   "execution_count": 66,
   "metadata": {
    "scrolled": true
   },
   "outputs": [
    {
     "name": "stdout",
     "output_type": "stream",
     "text": [
      "Epoch 1/30\n",
      "1/1 [==============================] - 3s 3s/step - loss: 0.5646\n",
      "Epoch 2/30\n",
      "1/1 [==============================] - 0s 4ms/step - loss: 0.5341\n",
      "Epoch 3/30\n",
      "1/1 [==============================] - 0s 15ms/step - loss: 0.5045\n",
      "Epoch 4/30\n",
      "1/1 [==============================] - 0s 18ms/step - loss: 0.4759\n",
      "Epoch 5/30\n",
      "1/1 [==============================] - 0s 16ms/step - loss: 0.4483\n",
      "Epoch 6/30\n",
      "1/1 [==============================] - 0s 17ms/step - loss: 0.4216\n",
      "Epoch 7/30\n",
      "1/1 [==============================] - 0s 17ms/step - loss: 0.3960\n",
      "Epoch 8/30\n",
      "1/1 [==============================] - 0s 15ms/step - loss: 0.3714\n",
      "Epoch 9/30\n",
      "1/1 [==============================] - 0s 0s/step - loss: 0.3478\n",
      "Epoch 10/30\n",
      "1/1 [==============================] - 0s 0s/step - loss: 0.3254\n",
      "Epoch 11/30\n",
      "1/1 [==============================] - 0s 16ms/step - loss: 0.3042\n",
      "Epoch 12/30\n",
      "1/1 [==============================] - 0s 1ms/step - loss: 0.2843\n",
      "Epoch 13/30\n",
      "1/1 [==============================] - 0s 0s/step - loss: 0.2658\n",
      "Epoch 14/30\n",
      "1/1 [==============================] - 0s 0s/step - loss: 0.2488\n",
      "Epoch 15/30\n",
      "1/1 [==============================] - 0s 860us/step - loss: 0.2332\n",
      "Epoch 16/30\n",
      "1/1 [==============================] - 0s 16ms/step - loss: 0.2192\n",
      "Epoch 17/30\n",
      "1/1 [==============================] - 0s 17ms/step - loss: 0.2066\n",
      "Epoch 18/30\n",
      "1/1 [==============================] - 0s 15ms/step - loss: 0.1956\n",
      "Epoch 19/30\n",
      "1/1 [==============================] - 0s 0s/step - loss: 0.1861\n",
      "Epoch 20/30\n",
      "1/1 [==============================] - 0s 17ms/step - loss: 0.1783\n",
      "Epoch 21/30\n",
      "1/1 [==============================] - 0s 17ms/step - loss: 0.1722\n",
      "Epoch 22/30\n",
      "1/1 [==============================] - 0s 0s/step - loss: 0.1679\n",
      "Epoch 23/30\n",
      "1/1 [==============================] - 0s 0s/step - loss: 0.1654\n",
      "Epoch 24/30\n",
      "1/1 [==============================] - 0s 17ms/step - loss: 0.1645\n",
      "Epoch 25/30\n",
      "1/1 [==============================] - 0s 17ms/step - loss: 0.1647\n",
      "Epoch 26/30\n",
      "1/1 [==============================] - 0s 0s/step - loss: 0.1654\n",
      "Epoch 27/30\n",
      "1/1 [==============================] - 0s 0s/step - loss: 0.1659\n",
      "Epoch 28/30\n",
      "1/1 [==============================] - 0s 17ms/step - loss: 0.1656\n",
      "Epoch 29/30\n",
      "1/1 [==============================] - 0s 17ms/step - loss: 0.1641\n",
      "Epoch 30/30\n",
      "1/1 [==============================] - 0s 0s/step - loss: 0.1614\n"
     ]
    }
   ],
   "source": [
    "np.random.seed(42)\n",
    "tf.random.set_seed(42)\n",
    "\n",
    "model.compile(loss=\"mse\", optimizer='Adam')\n",
    "\n",
    "history = model.fit(train_x, train_target, epochs=30)"
   ]
  },
  {
   "cell_type": "markdown",
   "metadata": {},
   "source": [
    "### Predictions"
   ]
  },
  {
   "cell_type": "code",
   "execution_count": 67,
   "metadata": {},
   "outputs": [
    {
     "name": "stdout",
     "output_type": "stream",
     "text": [
      "WARNING:tensorflow:5 out of the last 5 calls to <function Model.make_predict_function.<locals>.predict_function at 0x000001E0F33BB430> triggered tf.function retracing. Tracing is expensive and the excessive number of tracings could be due to (1) creating @tf.function repeatedly in a loop, (2) passing tensors with different shapes, (3) passing Python objects instead of tensors. For (1), please define your @tf.function outside of the loop. For (2), @tf.function has reduce_retracing=True option that can avoid unnecessary retracing. For (3), please refer to https://www.tensorflow.org/guide/function#controlling_retracing and https://www.tensorflow.org/api_docs/python/tf/function for  more details.\n",
      "1/1 [==============================] - 1s 654ms/step\n"
     ]
    }
   ],
   "source": [
    "#Predict:\n",
    "y_pred = model.predict(test_x)"
   ]
  },
  {
   "cell_type": "code",
   "execution_count": 68,
   "metadata": {},
   "outputs": [],
   "source": [
    "#Remember, these are standardized values. \n",
    "\n",
    "comparison = pd.DataFrame()\n",
    "\n",
    "comparison['actual'] = scaler.inverse_transform([test_target]).flatten()\n",
    "comparison['predicted'] = scaler.inverse_transform(y_pred).flatten()"
   ]
  },
  {
   "cell_type": "code",
   "execution_count": 69,
   "metadata": {},
   "outputs": [
    {
     "data": {
      "text/html": [
       "<div>\n",
       "<style scoped>\n",
       "    .dataframe tbody tr th:only-of-type {\n",
       "        vertical-align: middle;\n",
       "    }\n",
       "\n",
       "    .dataframe tbody tr th {\n",
       "        vertical-align: top;\n",
       "    }\n",
       "\n",
       "    .dataframe thead th {\n",
       "        text-align: right;\n",
       "    }\n",
       "</style>\n",
       "<table border=\"1\" class=\"dataframe\">\n",
       "  <thead>\n",
       "    <tr style=\"text-align: right;\">\n",
       "      <th></th>\n",
       "      <th>actual</th>\n",
       "      <th>predicted</th>\n",
       "    </tr>\n",
       "  </thead>\n",
       "  <tbody>\n",
       "    <tr>\n",
       "      <th>0</th>\n",
       "      <td>139.520004</td>\n",
       "      <td>137.806412</td>\n",
       "    </tr>\n",
       "    <tr>\n",
       "      <th>1</th>\n",
       "      <td>149.669998</td>\n",
       "      <td>142.832993</td>\n",
       "    </tr>\n",
       "    <tr>\n",
       "      <th>2</th>\n",
       "      <td>150.970001</td>\n",
       "      <td>147.818558</td>\n",
       "    </tr>\n",
       "  </tbody>\n",
       "</table>\n",
       "</div>"
      ],
      "text/plain": [
       "       actual   predicted\n",
       "0  139.520004  137.806412\n",
       "1  149.669998  142.832993\n",
       "2  150.970001  147.818558"
      ]
     },
     "execution_count": 69,
     "metadata": {},
     "output_type": "execute_result"
    }
   ],
   "source": [
    "comparison"
   ]
  },
  {
   "cell_type": "code",
   "execution_count": 70,
   "metadata": {},
   "outputs": [],
   "source": [
    "MSE = mean_squared_error(comparison['actual'], comparison['predicted'])"
   ]
  },
  {
   "cell_type": "code",
   "execution_count": 71,
   "metadata": {},
   "outputs": [
    {
     "data": {
      "text/html": [
       "<div>\n",
       "<style scoped>\n",
       "    .dataframe tbody tr th:only-of-type {\n",
       "        vertical-align: middle;\n",
       "    }\n",
       "\n",
       "    .dataframe tbody tr th {\n",
       "        vertical-align: top;\n",
       "    }\n",
       "\n",
       "    .dataframe thead th {\n",
       "        text-align: right;\n",
       "    }\n",
       "</style>\n",
       "<table border=\"1\" class=\"dataframe\">\n",
       "  <thead>\n",
       "    <tr style=\"text-align: right;\">\n",
       "      <th></th>\n",
       "      <th>model</th>\n",
       "      <th>MSE</th>\n",
       "    </tr>\n",
       "  </thead>\n",
       "  <tbody>\n",
       "    <tr>\n",
       "      <th>0</th>\n",
       "      <td>Normal NNN</td>\n",
       "      <td>18.350369</td>\n",
       "    </tr>\n",
       "    <tr>\n",
       "      <th>0</th>\n",
       "      <td>simple RNN</td>\n",
       "      <td>9.116649</td>\n",
       "    </tr>\n",
       "    <tr>\n",
       "      <th>0</th>\n",
       "      <td>Simple RNN with more layers</td>\n",
       "      <td>16.848684</td>\n",
       "    </tr>\n",
       "    <tr>\n",
       "      <th>0</th>\n",
       "      <td>LSTM with one layer</td>\n",
       "      <td>18.971611</td>\n",
       "    </tr>\n",
       "    <tr>\n",
       "      <th>0</th>\n",
       "      <td>LSTM with more layers</td>\n",
       "      <td>19.870879</td>\n",
       "    </tr>\n",
       "  </tbody>\n",
       "</table>\n",
       "</div>"
      ],
      "text/plain": [
       "                         model        MSE\n",
       "0                   Normal NNN  18.350369\n",
       "0                   simple RNN   9.116649\n",
       "0  Simple RNN with more layers  16.848684\n",
       "0          LSTM with one layer  18.971611\n",
       "0        LSTM with more layers  19.870879"
      ]
     },
     "execution_count": 71,
     "metadata": {},
     "output_type": "execute_result"
    }
   ],
   "source": [
    "performance = pd.concat([performance,pd.DataFrame({'model': 'LSTM with more layers', 'MSE':MSE}, index=[0])])\n",
    "performance"
   ]
  },
  {
   "cell_type": "code",
   "execution_count": 72,
   "metadata": {},
   "outputs": [
    {
     "data": {
      "image/png": "[encoded data removed]",
      "text/plain": [
       "<Figure size 432x288 with 1 Axes>"
      ]
     },
     "metadata": {
      "needs_background": "light"
     },
     "output_type": "display_data"
    }
   ],
   "source": [
    "plt.plot(comparison['actual'], label = 'actual')\n",
    "plt.plot(comparison['predicted'], label = 'predicted')\n",
    "\n",
    "plt.legend()\n",
    "\n",
    "plt.show()"
   ]
  },
  {
   "cell_type": "markdown",
   "metadata": {},
   "source": [
    "# GRU (with more layers)"
   ]
  },
  {
   "cell_type": "code",
   "execution_count": 73,
   "metadata": {
    "scrolled": false
   },
   "outputs": [],
   "source": [
    "model = keras.models.Sequential([\n",
    "    keras.layers.GRU(32, activation='relu', return_sequences=True, input_shape=[9, 1]),\n",
    "    keras.layers.GRU(32, activation='relu', return_sequences=False),\n",
    "    keras.layers.Dense(1, activation=None)\n",
    "])"
   ]
  },
  {
   "cell_type": "code",
   "execution_count": 74,
   "metadata": {
    "scrolled": true
   },
   "outputs": [
    {
     "name": "stdout",
     "output_type": "stream",
     "text": [
      "Epoch 1/30\n",
      "1/1 [==============================] - 2s 2s/step - loss: 0.6212\n",
      "Epoch 2/30\n",
      "1/1 [==============================] - 0s 13ms/step - loss: 0.5697\n",
      "Epoch 3/30\n",
      "1/1 [==============================] - 0s 13ms/step - loss: 0.5349\n",
      "Epoch 4/30\n",
      "1/1 [==============================] - 0s 14ms/step - loss: 0.5063\n",
      "Epoch 5/30\n",
      "1/1 [==============================] - 0s 12ms/step - loss: 0.4811\n",
      "Epoch 6/30\n",
      "1/1 [==============================] - 0s 5ms/step - loss: 0.4580\n",
      "Epoch 7/30\n",
      "1/1 [==============================] - 0s 10ms/step - loss: 0.4366\n",
      "Epoch 8/30\n",
      "1/1 [==============================] - 0s 11ms/step - loss: 0.4163\n",
      "Epoch 9/30\n",
      "1/1 [==============================] - 0s 13ms/step - loss: 0.3968\n",
      "Epoch 10/30\n",
      "1/1 [==============================] - 0s 15ms/step - loss: 0.3781\n",
      "Epoch 11/30\n",
      "1/1 [==============================] - 0s 12ms/step - loss: 0.3600\n",
      "Epoch 12/30\n",
      "1/1 [==============================] - 0s 13ms/step - loss: 0.3422\n",
      "Epoch 13/30\n",
      "1/1 [==============================] - 0s 14ms/step - loss: 0.3255\n",
      "Epoch 14/30\n",
      "1/1 [==============================] - 0s 14ms/step - loss: 0.3093\n",
      "Epoch 15/30\n",
      "1/1 [==============================] - 0s 13ms/step - loss: 0.2940\n",
      "Epoch 16/30\n",
      "1/1 [==============================] - 0s 2ms/step - loss: 0.2785\n",
      "Epoch 17/30\n",
      "1/1 [==============================] - 0s 29ms/step - loss: 0.2641\n",
      "Epoch 18/30\n",
      "1/1 [==============================] - 0s 13ms/step - loss: 0.2504\n",
      "Epoch 19/30\n",
      "1/1 [==============================] - 0s 7ms/step - loss: 0.2373\n",
      "Epoch 20/30\n",
      "1/1 [==============================] - 0s 12ms/step - loss: 0.2252\n",
      "Epoch 21/30\n",
      "1/1 [==============================] - 0s 15ms/step - loss: 0.2138\n",
      "Epoch 22/30\n",
      "1/1 [==============================] - 0s 0s/step - loss: 0.2030\n",
      "Epoch 23/30\n",
      "1/1 [==============================] - 0s 5ms/step - loss: 0.1927\n",
      "Epoch 24/30\n",
      "1/1 [==============================] - 0s 16ms/step - loss: 0.1830\n",
      "Epoch 25/30\n",
      "1/1 [==============================] - 0s 0s/step - loss: 0.1738\n",
      "Epoch 26/30\n",
      "1/1 [==============================] - 0s 5ms/step - loss: 0.1649\n",
      "Epoch 27/30\n",
      "1/1 [==============================] - 0s 16ms/step - loss: 0.1568\n",
      "Epoch 28/30\n",
      "1/1 [==============================] - 0s 11ms/step - loss: 0.1491\n",
      "Epoch 29/30\n",
      "1/1 [==============================] - 0s 4ms/step - loss: 0.1423\n",
      "Epoch 30/30\n",
      "1/1 [==============================] - 0s 16ms/step - loss: 0.1364\n"
     ]
    }
   ],
   "source": [
    "np.random.seed(42)\n",
    "tf.random.set_seed(42)\n",
    "\n",
    "model.compile(loss=\"mse\", optimizer='RMSprop')\n",
    "\n",
    "history = model.fit(train_x, train_target, epochs=30)"
   ]
  },
  {
   "cell_type": "markdown",
   "metadata": {},
   "source": [
    "### Predictions"
   ]
  },
  {
   "cell_type": "code",
   "execution_count": 75,
   "metadata": {},
   "outputs": [
    {
     "name": "stdout",
     "output_type": "stream",
     "text": [
      "WARNING:tensorflow:6 out of the last 6 calls to <function Model.make_predict_function.<locals>.predict_function at 0x000001E0EE5E21F0> triggered tf.function retracing. Tracing is expensive and the excessive number of tracings could be due to (1) creating @tf.function repeatedly in a loop, (2) passing tensors with different shapes, (3) passing Python objects instead of tensors. For (1), please define your @tf.function outside of the loop. For (2), @tf.function has reduce_retracing=True option that can avoid unnecessary retracing. For (3), please refer to https://www.tensorflow.org/guide/function#controlling_retracing and https://www.tensorflow.org/api_docs/python/tf/function for  more details.\n",
      "1/1 [==============================] - 0s 252ms/step\n"
     ]
    }
   ],
   "source": [
    "#Predict:\n",
    "y_pred = model.predict(test_x)"
   ]
  },
  {
   "cell_type": "code",
   "execution_count": 76,
   "metadata": {},
   "outputs": [],
   "source": [
    "#Remember, these are standardized values. \n",
    "\n",
    "comparison = pd.DataFrame()\n",
    "\n",
    "comparison['actual'] = scaler.inverse_transform([test_target]).flatten()\n",
    "comparison['predicted'] = scaler.inverse_transform(y_pred).flatten()"
   ]
  },
  {
   "cell_type": "code",
   "execution_count": 77,
   "metadata": {},
   "outputs": [],
   "source": [
    "MSE = mean_squared_error(comparison['actual'], comparison['predicted'])"
   ]
  },
  {
   "cell_type": "code",
   "execution_count": 78,
   "metadata": {},
   "outputs": [
    {
     "data": {
      "text/html": [
       "<div>\n",
       "<style scoped>\n",
       "    .dataframe tbody tr th:only-of-type {\n",
       "        vertical-align: middle;\n",
       "    }\n",
       "\n",
       "    .dataframe tbody tr th {\n",
       "        vertical-align: top;\n",
       "    }\n",
       "\n",
       "    .dataframe thead th {\n",
       "        text-align: right;\n",
       "    }\n",
       "</style>\n",
       "<table border=\"1\" class=\"dataframe\">\n",
       "  <thead>\n",
       "    <tr style=\"text-align: right;\">\n",
       "      <th></th>\n",
       "      <th>model</th>\n",
       "      <th>MSE</th>\n",
       "    </tr>\n",
       "  </thead>\n",
       "  <tbody>\n",
       "    <tr>\n",
       "      <th>0</th>\n",
       "      <td>Normal NNN</td>\n",
       "      <td>18.350369</td>\n",
       "    </tr>\n",
       "    <tr>\n",
       "      <th>0</th>\n",
       "      <td>simple RNN</td>\n",
       "      <td>9.116649</td>\n",
       "    </tr>\n",
       "    <tr>\n",
       "      <th>0</th>\n",
       "      <td>Simple RNN with more layers</td>\n",
       "      <td>16.848684</td>\n",
       "    </tr>\n",
       "    <tr>\n",
       "      <th>0</th>\n",
       "      <td>LSTM with one layer</td>\n",
       "      <td>18.971611</td>\n",
       "    </tr>\n",
       "    <tr>\n",
       "      <th>0</th>\n",
       "      <td>LSTM with more layers</td>\n",
       "      <td>19.870879</td>\n",
       "    </tr>\n",
       "    <tr>\n",
       "      <th>0</th>\n",
       "      <td>GRU with more layers</td>\n",
       "      <td>15.250943</td>\n",
       "    </tr>\n",
       "  </tbody>\n",
       "</table>\n",
       "</div>"
      ],
      "text/plain": [
       "                         model        MSE\n",
       "0                   Normal NNN  18.350369\n",
       "0                   simple RNN   9.116649\n",
       "0  Simple RNN with more layers  16.848684\n",
       "0          LSTM with one layer  18.971611\n",
       "0        LSTM with more layers  19.870879\n",
       "0         GRU with more layers  15.250943"
      ]
     },
     "execution_count": 78,
     "metadata": {},
     "output_type": "execute_result"
    }
   ],
   "source": [
    "performance = pd.concat([performance,pd.DataFrame({'model': 'GRU with more layers', 'MSE':MSE}, index=[0])])\n",
    "performance"
   ]
  },
  {
   "cell_type": "code",
   "execution_count": 79,
   "metadata": {},
   "outputs": [
    {
     "data": {
      "image/png": "[encoded data removed]",
      "text/plain": [
       "<Figure size 432x288 with 1 Axes>"
      ]
     },
     "metadata": {
      "needs_background": "light"
     },
     "output_type": "display_data"
    }
   ],
   "source": [
    "plt.plot(comparison['actual'], label = 'actual')\n",
    "plt.plot(comparison['predicted'], label = 'predicted')\n",
    "\n",
    "plt.legend()\n",
    "\n",
    "plt.show()"
   ]
  },
  {
   "cell_type": "markdown",
   "metadata": {},
   "source": [
    "# Conv1D"
   ]
  },
  {
   "cell_type": "markdown",
   "metadata": {},
   "source": [
    "### Last Layer: GRU (you can change it to SimpleRNN or LSTM as well)"
   ]
  },
  {
   "cell_type": "code",
   "execution_count": 80,
   "metadata": {
    "scrolled": true
   },
   "outputs": [],
   "source": [
    "model = keras.models.Sequential([\n",
    "    keras.layers.Conv1D(filters=20, kernel_size=3, strides=1, padding=\"valid\", input_shape=[9, 1]),\n",
    "    keras.layers.GRU(32, activation='relu', return_sequences=True),\n",
    "    keras.layers.GRU(32, activation='relu', return_sequences=False),\n",
    "    keras.layers.Dense(1, activation=None)\n",
    "])"
   ]
  },
  {
   "cell_type": "code",
   "execution_count": 81,
   "metadata": {
    "scrolled": true
   },
   "outputs": [
    {
     "name": "stdout",
     "output_type": "stream",
     "text": [
      "Epoch 1/30\n",
      "1/1 [==============================] - 3s 3s/step - loss: 0.5604\n",
      "Epoch 2/30\n",
      "1/1 [==============================] - 0s 10ms/step - loss: 0.5344\n",
      "Epoch 3/30\n",
      "1/1 [==============================] - 0s 13ms/step - loss: 0.5101\n",
      "Epoch 4/30\n",
      "1/1 [==============================] - 0s 4ms/step - loss: 0.4865\n",
      "Epoch 5/30\n",
      "1/1 [==============================] - 0s 12ms/step - loss: 0.4650\n",
      "Epoch 6/30\n",
      "1/1 [==============================] - 0s 16ms/step - loss: 0.4442\n",
      "Epoch 7/30\n",
      "1/1 [==============================] - 0s 14ms/step - loss: 0.4237\n",
      "Epoch 8/30\n",
      "1/1 [==============================] - 0s 12ms/step - loss: 0.4032\n",
      "Epoch 9/30\n",
      "1/1 [==============================] - 0s 12ms/step - loss: 0.3824\n",
      "Epoch 10/30\n",
      "1/1 [==============================] - 0s 9ms/step - loss: 0.3617\n",
      "Epoch 11/30\n",
      "1/1 [==============================] - 0s 9ms/step - loss: 0.3408\n",
      "Epoch 12/30\n",
      "1/1 [==============================] - 0s 10ms/step - loss: 0.3199\n",
      "Epoch 13/30\n",
      "1/1 [==============================] - 0s 13ms/step - loss: 0.2993\n",
      "Epoch 14/30\n",
      "1/1 [==============================] - 0s 14ms/step - loss: 0.2792\n",
      "Epoch 15/30\n",
      "1/1 [==============================] - 0s 12ms/step - loss: 0.2595\n",
      "Epoch 16/30\n",
      "1/1 [==============================] - 0s 2ms/step - loss: 0.2407\n",
      "Epoch 17/30\n",
      "1/1 [==============================] - 0s 17ms/step - loss: 0.2229\n",
      "Epoch 18/30\n",
      "1/1 [==============================] - 0s 14ms/step - loss: 0.2062\n",
      "Epoch 19/30\n",
      "1/1 [==============================] - 0s 0s/step - loss: 0.1908\n",
      "Epoch 20/30\n",
      "1/1 [==============================] - 0s 4ms/step - loss: 0.1768\n",
      "Epoch 21/30\n",
      "1/1 [==============================] - 0s 15ms/step - loss: 0.1645\n",
      "Epoch 22/30\n",
      "1/1 [==============================] - 0s 10ms/step - loss: 0.1540\n",
      "Epoch 23/30\n",
      "1/1 [==============================] - 0s 4ms/step - loss: 0.1453\n",
      "Epoch 24/30\n",
      "1/1 [==============================] - 0s 17ms/step - loss: 0.1385\n",
      "Epoch 25/30\n",
      "1/1 [==============================] - 0s 12ms/step - loss: 0.1335\n",
      "Epoch 26/30\n",
      "1/1 [==============================] - 0s 3ms/step - loss: 0.1305\n",
      "Epoch 27/30\n",
      "1/1 [==============================] - 0s 18ms/step - loss: 0.1291\n",
      "Epoch 28/30\n",
      "1/1 [==============================] - 0s 12ms/step - loss: 0.1291\n",
      "Epoch 29/30\n",
      "1/1 [==============================] - 0s 2ms/step - loss: 0.1298\n",
      "Epoch 30/30\n",
      "1/1 [==============================] - 0s 17ms/step - loss: 0.1305\n"
     ]
    }
   ],
   "source": [
    "np.random.seed(42)\n",
    "tf.random.set_seed(42)\n",
    "\n",
    "model.compile(loss=\"mse\", optimizer='Adam')\n",
    "\n",
    "history = model.fit(train_x, train_target, epochs=30)"
   ]
  },
  {
   "cell_type": "markdown",
   "metadata": {},
   "source": [
    "### Predictions"
   ]
  },
  {
   "cell_type": "code",
   "execution_count": 82,
   "metadata": {},
   "outputs": [
    {
     "name": "stdout",
     "output_type": "stream",
     "text": [
      "1/1 [==============================] - 0s 262ms/step\n"
     ]
    }
   ],
   "source": [
    "#Predict:\n",
    "y_pred = model.predict(test_x)"
   ]
  },
  {
   "cell_type": "code",
   "execution_count": 83,
   "metadata": {},
   "outputs": [],
   "source": [
    "#Remember, these are standardized values. \n",
    "\n",
    "comparison = pd.DataFrame()\n",
    "\n",
    "comparison['actual'] = scaler.inverse_transform([test_target]).flatten()\n",
    "comparison['predicted'] = scaler.inverse_transform(y_pred).flatten()"
   ]
  },
  {
   "cell_type": "code",
   "execution_count": 84,
   "metadata": {},
   "outputs": [],
   "source": [
    "MSE = mean_squared_error(comparison['actual'], comparison['predicted'])"
   ]
  },
  {
   "cell_type": "code",
   "execution_count": 85,
   "metadata": {},
   "outputs": [
    {
     "data": {
      "text/html": [
       "<div>\n",
       "<style scoped>\n",
       "    .dataframe tbody tr th:only-of-type {\n",
       "        vertical-align: middle;\n",
       "    }\n",
       "\n",
       "    .dataframe tbody tr th {\n",
       "        vertical-align: top;\n",
       "    }\n",
       "\n",
       "    .dataframe thead th {\n",
       "        text-align: right;\n",
       "    }\n",
       "</style>\n",
       "<table border=\"1\" class=\"dataframe\">\n",
       "  <thead>\n",
       "    <tr style=\"text-align: right;\">\n",
       "      <th></th>\n",
       "      <th>model</th>\n",
       "      <th>MSE</th>\n",
       "    </tr>\n",
       "  </thead>\n",
       "  <tbody>\n",
       "    <tr>\n",
       "      <th>0</th>\n",
       "      <td>Normal NNN</td>\n",
       "      <td>18.350369</td>\n",
       "    </tr>\n",
       "    <tr>\n",
       "      <th>0</th>\n",
       "      <td>simple RNN</td>\n",
       "      <td>9.116649</td>\n",
       "    </tr>\n",
       "    <tr>\n",
       "      <th>0</th>\n",
       "      <td>Simple RNN with more layers</td>\n",
       "      <td>16.848684</td>\n",
       "    </tr>\n",
       "    <tr>\n",
       "      <th>0</th>\n",
       "      <td>LSTM with one layer</td>\n",
       "      <td>18.971611</td>\n",
       "    </tr>\n",
       "    <tr>\n",
       "      <th>0</th>\n",
       "      <td>LSTM with more layers</td>\n",
       "      <td>19.870879</td>\n",
       "    </tr>\n",
       "    <tr>\n",
       "      <th>0</th>\n",
       "      <td>GRU with more layers</td>\n",
       "      <td>15.250943</td>\n",
       "    </tr>\n",
       "    <tr>\n",
       "      <th>0</th>\n",
       "      <td>Conv1D</td>\n",
       "      <td>12.710550</td>\n",
       "    </tr>\n",
       "  </tbody>\n",
       "</table>\n",
       "</div>"
      ],
      "text/plain": [
       "                         model        MSE\n",
       "0                   Normal NNN  18.350369\n",
       "0                   simple RNN   9.116649\n",
       "0  Simple RNN with more layers  16.848684\n",
       "0          LSTM with one layer  18.971611\n",
       "0        LSTM with more layers  19.870879\n",
       "0         GRU with more layers  15.250943\n",
       "0                       Conv1D  12.710550"
      ]
     },
     "execution_count": 85,
     "metadata": {},
     "output_type": "execute_result"
    }
   ],
   "source": [
    "performance = pd.concat([performance,pd.DataFrame({'model': 'Conv1D', 'MSE':MSE}, index=[0])])\n",
    "performance"
   ]
  },
  {
   "cell_type": "code",
   "execution_count": 86,
   "metadata": {},
   "outputs": [
    {
     "data": {
      "text/html": [
       "<div>\n",
       "<style scoped>\n",
       "    .dataframe tbody tr th:only-of-type {\n",
       "        vertical-align: middle;\n",
       "    }\n",
       "\n",
       "    .dataframe tbody tr th {\n",
       "        vertical-align: top;\n",
       "    }\n",
       "\n",
       "    .dataframe thead th {\n",
       "        text-align: right;\n",
       "    }\n",
       "</style>\n",
       "<table border=\"1\" class=\"dataframe\">\n",
       "  <thead>\n",
       "    <tr style=\"text-align: right;\">\n",
       "      <th></th>\n",
       "      <th>model</th>\n",
       "      <th>MSE</th>\n",
       "    </tr>\n",
       "  </thead>\n",
       "  <tbody>\n",
       "    <tr>\n",
       "      <th>0</th>\n",
       "      <td>simple RNN</td>\n",
       "      <td>9.116649</td>\n",
       "    </tr>\n",
       "    <tr>\n",
       "      <th>0</th>\n",
       "      <td>Conv1D</td>\n",
       "      <td>12.710550</td>\n",
       "    </tr>\n",
       "    <tr>\n",
       "      <th>0</th>\n",
       "      <td>GRU with more layers</td>\n",
       "      <td>15.250943</td>\n",
       "    </tr>\n",
       "    <tr>\n",
       "      <th>0</th>\n",
       "      <td>Simple RNN with more layers</td>\n",
       "      <td>16.848684</td>\n",
       "    </tr>\n",
       "    <tr>\n",
       "      <th>0</th>\n",
       "      <td>Normal NNN</td>\n",
       "      <td>18.350369</td>\n",
       "    </tr>\n",
       "    <tr>\n",
       "      <th>0</th>\n",
       "      <td>LSTM with one layer</td>\n",
       "      <td>18.971611</td>\n",
       "    </tr>\n",
       "    <tr>\n",
       "      <th>0</th>\n",
       "      <td>LSTM with more layers</td>\n",
       "      <td>19.870879</td>\n",
       "    </tr>\n",
       "  </tbody>\n",
       "</table>\n",
       "</div>"
      ],
      "text/plain": [
       "                         model        MSE\n",
       "0                   simple RNN   9.116649\n",
       "0                       Conv1D  12.710550\n",
       "0         GRU with more layers  15.250943\n",
       "0  Simple RNN with more layers  16.848684\n",
       "0                   Normal NNN  18.350369\n",
       "0          LSTM with one layer  18.971611\n",
       "0        LSTM with more layers  19.870879"
      ]
     },
     "execution_count": 86,
     "metadata": {},
     "output_type": "execute_result"
    }
   ],
   "source": [
    "performance.sort_values(by='MSE')"
   ]
  },
  {
   "cell_type": "markdown",
   "metadata": {},
   "source": [
    "On comparing all the models Simple RNN has the lowest MSE wchich is the better performing model.\n"
   ]
  }
 ],
 "metadata": {
  "kernelspec": {
   "display_name": "Python 3 (ipykernel)",
   "language": "python",
   "name": "python3"
  },
  "language_info": {
   "codemirror_mode": {
    "name": "ipython",
    "version": 3
   },
   "file_extension": ".py",
   "mimetype": "text/x-python",
   "name": "python",
   "nbconvert_exporter": "python",
   "pygments_lexer": "ipython3",
   "version": "3.9.12"
  },
  "nav_menu": {},
  "toc": {
   "base_numbering": 1,
   "nav_menu": {},
   "number_sections": false,
   "sideBar": true,
   "skip_h1_title": false,
   "title_cell": "Table of Contents",
   "title_sidebar": "Contents",
   "toc_cell": false,
   "toc_position": {},
   "toc_section_display": "block",
   "toc_window_display": false
  },
  "varInspector": {
   "cols": {
    "lenName": 16,
    "lenType": 16,
    "lenVar": 40
   },
   "kernels_config": {
    "python": {
     "delete_cmd_postfix": "",
     "delete_cmd_prefix": "del ",
     "library": "var_list.py",
     "varRefreshCmd": "print(var_dic_list())"
    },
    "r": {
     "delete_cmd_postfix": ") ",
     "delete_cmd_prefix": "rm(",
     "library": "var_list.r",
     "varRefreshCmd": "cat(var_dic_list()) "
    }
   },
   "types_to_exclude": [
    "module",
    "function",
    "builtin_function_or_method",
    "instance",
    "_Feature"
   ],
   "window_display": false
  }
 },
 "nbformat": 4,
 "nbformat_minor": 1
}
