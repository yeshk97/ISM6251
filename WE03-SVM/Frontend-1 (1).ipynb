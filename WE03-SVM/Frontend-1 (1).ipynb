{
 "cells": [
  {
   "cell_type": "code",
   "execution_count": 4,
   "id": "e7136215",
   "metadata": {},
   "outputs": [
    {
     "name": "stdout",
     "output_type": "stream",
     "text": [
      "\n",
      "*****************************************************\n",
      "* Mower ownership prediction Model *\n",
      "*****************************************************\n",
      "\n",
      "Enter the Income of the household: 100\n",
      "Enter the Lot Size: 20\n",
      "\n",
      "Mower ownership prediction model indicates probability of ownership at 0.7411, therefore it's indicated that they are Nonowner.\n",
      "\n"
     ]
    }
   ],
   "source": [
    "import pandas as pd\n",
    "import numpy as np\n",
    "import matplotlib.pyplot as plt\n",
    "from sklearn.metrics import confusion_matrix\n",
    "\n",
    "import pickle\n",
    "\n",
    "\n",
    "# Uncomment the following snippet of code to debug problems with finding the .pkl file path\n",
    "# This snippet of code will exit the program and print the current working directory.\n",
    "#import os\n",
    "#exit(os.getcwd())\n",
    "\n",
    "svm_poly_model = pickle.load(open('/Users/yeswanthkumarlekkala/Desktop/SEM-2/DSP/25 feb/RidingMowersassignment_pickle.csv', \"rb\"))\n",
    "\n",
    "print(\"\\n*****************************************************\")\n",
    "print(\"* Mower ownership prediction Model *\")\n",
    "print(\"*****************************************************\\n\")\n",
    "Income = float(input(\"Enter the Income of the household: \"))\n",
    "Lot_Size = float(input(\"Enter the Lot Size: \"))\n",
    "df = pd.DataFrame({'Income': [Income], 'Lot_Size' : [Lot_Size]})\n",
    "result = svm_poly_model.predict(df)\n",
    "probability = svm_poly_model.predict_proba(df)\n",
    "treatment = ('Owner', 'Nonowner')\n",
    "print(f\"\\nMower ownership prediction model indicates probability of ownership at {probability[0][1]:.4f}, therefore it's indicated that they are {treatment[result[0]]}.\\n\")"
   ]
  },
  {
   "cell_type": "code",
   "execution_count": null,
   "id": "93594a82",
   "metadata": {},
   "outputs": [],
   "source": []
  }
 ],
 "metadata": {
  "kernelspec": {
   "display_name": "Python 3 (ipykernel)",
   "language": "python",
   "name": "python3"
  },
  "language_info": {
   "codemirror_mode": {
    "name": "ipython",
    "version": 3
   },
   "file_extension": ".py",
   "mimetype": "text/x-python",
   "name": "python",
   "nbconvert_exporter": "python",
   "pygments_lexer": "ipython3",
   "version": "3.9.13"
  }
 },
 "nbformat": 4,
 "nbformat_minor": 5
}
